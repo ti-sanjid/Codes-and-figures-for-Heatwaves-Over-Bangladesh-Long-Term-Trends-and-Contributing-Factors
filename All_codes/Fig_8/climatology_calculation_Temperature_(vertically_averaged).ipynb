{
 "cells": [
  {
   "cell_type": "code",
   "execution_count": null,
   "metadata": {},
   "outputs": [],
   "source": [
    "!pip install cartopy"
   ]
  },
  {
   "cell_type": "code",
   "execution_count": null,
   "metadata": {},
   "outputs": [],
   "source": [
    "from google.colab import drive\n",
    "drive.mount('/content/drive')"
   ]
  },
  {
   "cell_type": "code",
   "execution_count": null,
   "metadata": {},
   "outputs": [],
   "source": [
    "import  xarray as xr\n",
    "import pandas as pd\n",
    "import numpy as np\n",
    "import matplotlib.pyplot as plt\n",
    "from datetime import datetime,timedelta\n",
    "import warnings\n",
    "import math\n",
    "from tqdm.auto import tqdm"
   ]
  },
  {
   "cell_type": "code",
   "execution_count": null,
   "metadata": {},
   "outputs": [],
   "source": [
    "import warnings\n",
    "warnings.filterwarnings('ignore')\n",
    "\n",
    "import numpy as np\n",
    "import pandas as pd\n",
    "import matplotlib.pyplot as plt\n",
    "\n",
    "import cartopy.feature as cf\n",
    "import cartopy.crs as ccrs\n",
    "import cartopy.mpl.ticker as cticker\n",
    "\n",
    "from cartopy.util import add_cyclic_point\n",
    "from matplotlib import animation\n",
    "from tqdm.auto import tqdm\n",
    "from datetime import datetime,timedelta\n",
    "\n",
    "from matplotlib.cm import get_cmap\n",
    "warnings.filterwarnings(\"ignore\")"
   ]
  },
  {
   "cell_type": "markdown",
   "metadata": {
    "id": "2_g_XuhMYkoD"
   },
   "source": [
    "The **climatology** for **pre-monsoon (MAM)** and **monsoon (JJAS)** season was derived from ERA5 multiple level (1000-900hpa) temperature data (1981–2010)"
   ]
  },
  {
   "cell_type": "code",
   "execution_count": null,
   "metadata": {},
   "outputs": [],
   "source": [
    "ds=xr.open_mfdataset('/content/drive/MyDrive/AP_HW/ERA5 Data/temperature_levels(1000-900)/temp(1000-900)-1971.nc')\n",
    "ds"
   ]
  },
  {
   "cell_type": "code",
   "execution_count": null,
   "metadata": {},
   "outputs": [],
   "source": [
    "#@title Climatology Calculation - MAM\n",
    "import os\n",
    "from tqdm.auto import tqdm\n",
    "import datetime\n",
    "\n",
    "# Print process start time\n",
    "print(datetime.datetime.utcnow() + datetime.timedelta(hours=6))\n",
    "\n",
    "directory_path = '/content/drive/MyDrive/AP_HW/ERA5 Data/temperature_levels(1000-900)'\n",
    "\n",
    "# List to store yearly datasets\n",
    "mean_list = []\n",
    "\n",
    "# Loop over files\n",
    "for filename in tqdm(sorted(os.listdir(directory_path))):\n",
    "    if filename.endswith('.nc'):\n",
    "        # Open dataset\n",
    "        file_path = os.path.join(directory_path, filename)\n",
    "        year = filename[-7:-3]\n",
    "        ds = xr.open_dataset(file_path)\n",
    "\n",
    "        # Define MAM period\n",
    "        start_time = str(np.datetime64(f'{year}-03-01T00:00:00.000000000') - np.timedelta64(6, 'h'))\n",
    "        end_time = str(np.datetime64(f'{year}-05-31T17:00:00.000000000'))\n",
    "        time_range = slice(start_time, end_time)\n",
    "        ds = ds.sel(valid_time=time_range)\n",
    "\n",
    "        # Adjust times to Bangladesh timezone\n",
    "        ds['valid_time'] = ds['valid_time'] + np.timedelta64(6, 'h')\n",
    "\n",
    "        # Yearly mean\n",
    "        ds = ds.groupby('valid_time.year').mean(dim='valid_time', skipna=True)\n",
    "\n",
    "        # Add to list\n",
    "        mean_list.append(ds)\n",
    "\n",
    "# Concatenate all years\n",
    "temp_ds = xr.concat(mean_list, dim='year')\n",
    "\n",
    "# Compute climatology\n",
    "temp_clim_ds = temp_ds.sel(year=slice(1981, 2010))\n",
    "temp_climatology = temp_clim_ds.mean(dim='year', skipna=True)\n",
    "\n",
    "# Save to NetCDF\n",
    "temp_climatology.to_netcdf('/content/drive/MyDrive/AP_HW/Scripts-ll/climatology/data/shum&temp/temp_climatology(1000-900)-mam.nc')\n",
    "\n",
    "# Print process end time\n",
    "print(datetime.datetime.utcnow() + datetime.timedelta(hours=6))\n"
   ]
  },
  {
   "cell_type": "code",
   "execution_count": null,
   "metadata": {},
   "outputs": [],
   "source": [
    "#@title Climatology Calculation - JJAS\n",
    "import os\n",
    "from tqdm.auto import tqdm\n",
    "import datetime\n",
    "\n",
    "# Print process start time\n",
    "print(datetime.datetime.utcnow() + datetime.timedelta(hours=6))\n",
    "\n",
    "directory_path = '/content/drive/MyDrive/AP_HW/ERA5 Data/temperature_levels(1000-900)'\n",
    "\n",
    "# List to store yearly datasets\n",
    "mean_list = []\n",
    "\n",
    "# Loop over files\n",
    "for filename in tqdm(sorted(os.listdir(directory_path))):\n",
    "    if filename.endswith('.nc'):\n",
    "        # Open dataset\n",
    "        file_path = os.path.join(directory_path, filename)\n",
    "        year = filename[-7:-3]\n",
    "        ds = xr.open_dataset(file_path)\n",
    "\n",
    "        # Define JJAS period\n",
    "        start_time = str(np.datetime64(f'{year}-06-01T00:00:00.000000000') - np.timedelta64(6, 'h'))\n",
    "        end_time = str(np.datetime64(f'{year}-09-30T17:00:00.000000000'))\n",
    "        time_range = slice(start_time, end_time)\n",
    "        ds = ds.sel(valid_time=time_range)\n",
    "\n",
    "        # Adjust times to Bangladesh timezone\n",
    "        ds['valid_time'] = ds['valid_time'] + np.timedelta64(6, 'h')\n",
    "\n",
    "        # Yearly mean\n",
    "        ds = ds.groupby('valid_time.year').mean(dim='valid_time', skipna=True)\n",
    "\n",
    "        # Add to list\n",
    "        mean_list.append(ds)\n",
    "\n",
    "# Concatenate all years\n",
    "temp_ds = xr.concat(mean_list, dim='year')\n",
    "\n",
    "# Compute climatology\n",
    "temp_clim_ds = temp_ds.sel(year=slice(1981, 2010))\n",
    "temp_climatology = temp_clim_ds.mean(dim='year', skipna=True)\n",
    "\n",
    "# Save to NetCDF\n",
    "temp_climatology.to_netcdf('/content/drive/MyDrive/AP_HW/Scripts-ll/climatology/data/shum&temp/temp_climatology(1000-900)-jjas.nc')\n",
    "\n",
    "# Print process end time\n",
    "print(datetime.datetime.utcnow() + datetime.timedelta(hours=6))\n"
   ]
  }
 ],
 "metadata": {
  "language_info": {
   "name": "python"
  }
 },
 "nbformat": 4,
 "nbformat_minor": 0
}

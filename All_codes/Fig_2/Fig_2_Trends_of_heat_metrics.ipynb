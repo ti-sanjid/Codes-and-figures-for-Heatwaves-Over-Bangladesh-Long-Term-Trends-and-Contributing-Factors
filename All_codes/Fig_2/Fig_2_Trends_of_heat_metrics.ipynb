{
 "cells": [
  {
   "cell_type": "markdown",
   "id": "0",
   "metadata": {
    "id": "8nv8deRAZmoU"
   },
   "source": [
    "# Installations and Import"
   ]
  },
  {
   "cell_type": "code",
   "execution_count": null,
   "id": "1",
   "metadata": {},
   "outputs": [],
   "source": [
    "# Install the cartopy library for geographical plotting\n",
    "!pip install cartopy"
   ]
  },
  {
   "cell_type": "code",
   "execution_count": null,
   "id": "2",
   "metadata": {},
   "outputs": [],
   "source": [
    "import warnings\n",
    "# Filter out warning messages\n",
    "warnings.filterwarnings('ignore')"
   ]
  },
  {
   "cell_type": "code",
   "execution_count": null,
   "id": "3",
   "metadata": {},
   "outputs": [],
   "source": [
    "# Import necessary libraries\n",
    "import  xarray as xr\n",
    "import pandas as pd\n",
    "import numpy as np\n",
    "import matplotlib.pyplot as plt\n",
    "from datetime import datetime,timedelta\n",
    "import warnings\n",
    "import math\n",
    "from tqdm.auto import tqdm"
   ]
  },
  {
   "cell_type": "code",
   "execution_count": null,
   "id": "4",
   "metadata": {},
   "outputs": [],
   "source": [
    "# Mount Google Drive to access files\n",
    "from google.colab import drive\n",
    "drive.mount('/content/drive')"
   ]
  },
  {
   "cell_type": "markdown",
   "id": "5",
   "metadata": {
    "id": "_Bn_T_LFKaKy"
   },
   "source": [
    "# Data Processing for the plot"
   ]
  },
  {
   "cell_type": "markdown",
   "id": "6",
   "metadata": {
    "id": "281XQ7kyjTp2"
   },
   "source": [
    "We have calculated daily maximums for EPT, T2M and WBT."
   ]
  },
  {
   "cell_type": "markdown",
   "id": "7",
   "metadata": {
    "id": "eqHoji7H043v"
   },
   "source": [
    "## Daily Max EPT"
   ]
  },
  {
   "cell_type": "code",
   "execution_count": null,
   "id": "8",
   "metadata": {},
   "outputs": [],
   "source": [
    "# Open the EPT dataset for the year 2023\n",
    "ept=xr.open_mfdataset('/content/drive/MyDrive/AP_HW/ERA5 Data/EPT/ept-2023.nc')\n",
    "ept"
   ]
  },
  {
   "cell_type": "markdown",
   "id": "9",
   "metadata": {
    "id": "P0vy2yRWfBQr"
   },
   "source": [
    "Here we are using Ept data calculated using the `EPT calculation.ipynb`"
   ]
  },
  {
   "cell_type": "code",
   "execution_count": null,
   "id": "10",
   "metadata": {},
   "outputs": [],
   "source": [
    "# Here we are using Ept data calculated using the EPT calculation.ipynb\n",
    "ds=xr.open_mfdataset('/content/drive/MyDrive/AP_HW/ERA5 Data/EPT/*.nc')\n",
    "# Define latitude and longitude ranges for selection\n",
    "lat_range=slice(26.5,20.75)\n",
    "lon_range=slice(88,92.5)\n",
    "# Select data for BD\n",
    "ds_ept=ds.ept.sel(latitude=lat_range,longitude=lon_range)\n",
    "# Shift the time coordinate by 6 hours to convert to BD time\n",
    "ds_ept_bdt=ds_ept.shift(time=6)\n",
    "# Display the shifted dataset\n",
    "ds_ept_bdt"
   ]
  },
  {
   "cell_type": "code",
   "execution_count": null,
   "id": "11",
   "metadata": {},
   "outputs": [],
   "source": [
    "# Convert  Kelvin to Celsius\n",
    "ds_ept_C=ds_ept_bdt-273.15\n",
    "# Assign attributes\n",
    "ds_ept_C=ds_ept_C.assign_attrs(ds_ept_bdt.attrs)\n",
    "# Update the units attribute to '°C'\n",
    "ds_ept_C.attrs['units']= '° C'"
   ]
  },
  {
   "cell_type": "code",
   "execution_count": null,
   "id": "12",
   "metadata": {},
   "outputs": [],
   "source": [
    "# Resample the data to daily maximum values\n",
    "ept_daily_max=ds_ept_C.resample(time='D').max()\n",
    "ept_daily_max"
   ]
  },
  {
   "cell_type": "code",
   "execution_count": null,
   "id": "13",
   "metadata": {},
   "outputs": [],
   "source": [
    "# Calculate the monthly mean of the daily maximum EPT\n",
    "monthly_ept = ept_daily_max.resample(time='M').mean(dim='time', skipna=True)\n",
    "monthly_ept"
   ]
  },
  {
   "cell_type": "code",
   "execution_count": null,
   "id": "14",
   "metadata": {},
   "outputs": [],
   "source": [
    "monthly_ept"
   ]
  },
  {
   "cell_type": "code",
   "execution_count": null,
   "id": "15",
   "metadata": {},
   "outputs": [],
   "source": [
    "# Taking Spatial Average for BD\n",
    "\n",
    "weights=np.cos(np.deg2rad(monthly_ept.latitude))\n",
    "weights.name='weights'\n",
    "# Apply latitude weights to the monthly EPT data\n",
    "monthly_ept_weighted = monthly_ept.weighted(weights)\n",
    "# Calculate the weighted mean across longitude and latitude\n",
    "BD_mean_ept = monthly_ept_weighted.mean(['longitude','latitude'])\n",
    "# Display the area-weighted mean EPT for Bangladesh\n",
    "BD_mean_ept"
   ]
  },
  {
   "cell_type": "code",
   "execution_count": null,
   "id": "16",
   "metadata": {},
   "outputs": [],
   "source": [
    "# creating copy and making dataframe\n",
    "ept_df=BD_mean_ept.to_dataframe()\n",
    "ept_df=ept_df.reset_index()\n",
    "\n",
    "# Adding necessary columns\n",
    "ept_df['time']=pd.to_datetime(ept_df['time'])\n",
    "ept_df['month']=ept_df['time'].dt.month\n",
    "ept_df['year']=ept_df['time'].dt.year\n",
    "\n",
    "# month to season\n",
    "custom_season_mapping = {\n",
    "    1: 'DJF',\n",
    "    2: 'DJF',\n",
    "    3: 'MAM',\n",
    "    4: 'MAM',\n",
    "    5: 'MAM',\n",
    "    6: 'JJAS',\n",
    "    7: 'JJAS',\n",
    "    8: 'JJAS',\n",
    "    9: 'JJAS',\n",
    "    10: 'ON',\n",
    "    11: 'ON',\n",
    "    12: 'DJF'\n",
    "}\n",
    "\n",
    "# creating season column\n",
    "ept_df['season']=ept_df['month'].map(custom_season_mapping)\n",
    "# Separating DJF from others.\n",
    "ept_df_1=ept_df[(ept_df['month']<=2)|(ept_df['month']>=12)]\n",
    "ept_df_2=ept_df[(ept_df['month']>=3)&(ept_df['month']<=11)]\n",
    "\n",
    "# performing groupby to get seasonal mean.\n",
    "ept_seasonal=ept_df_2.groupby(['year','season'])['ept'].mean().reset_index()\n",
    "\n",
    "# Mapping dictionary\n",
    "season_mapping = {'DJF': 1, 'MAM': 2, 'JJAS': 3, 'ON': 4}\n",
    "\n",
    "# Assign numerical values to a each season\n",
    "ept_seasonal['numeric_season'] = ept_seasonal['season'].map(season_mapping)\n",
    "\n",
    "# Sorting\n",
    "all_season_ept=ept_seasonal.sort_values(by=['year','numeric_season'],ascending=[True,True])\n",
    "all_season_ept=all_season_ept.reset_index(drop=True)\n",
    "all_season_ept\n",
    "# saving\n",
    "all_season_ept.to_csv('/content/drive/MyDrive/AP_HW/Scripts-ll/Trends/data/all_season_ept.csv',index=False)\n"
   ]
  },
  {
   "cell_type": "markdown",
   "id": "17",
   "metadata": {
    "id": "aBOrncYL043w"
   },
   "source": [
    "## Daily Max T2M"
   ]
  },
  {
   "cell_type": "markdown",
   "id": "18",
   "metadata": {
    "id": "wnW4dIJuikIa"
   },
   "source": [
    "Here we are using ERA5 data to calculate our **daily maximum t2m**."
   ]
  },
  {
   "cell_type": "code",
   "execution_count": null,
   "id": "19",
   "metadata": {},
   "outputs": [],
   "source": [
    "# Here we are using ERA5 data to calculate our daily maximum t2m.\n",
    "# This is a very time consuming process.\n",
    "import os\n",
    "from tqdm.auto import tqdm\n",
    "directory_path='/content/drive/MyDrive/AP_HW/ERA5 Data/t2m_d2m_sp'\n",
    "\n",
    "t2m_list=[]\n",
    "for filename in tqdm(sorted(os.listdir(directory_path))):\n",
    "  if filename.endswith('.nc'):\n",
    "    filepath=os.path.join(directory_path,filename)\n",
    "    ds=xr.open_dataset(filepath)\n",
    "    year=int(filename[11:-3])\n",
    "    lat_range=slice(26.5,20.75)\n",
    "    lon_range=slice(88,92.5)\n",
    "    ds_t2m=ds.t2m.sel(latitude=lat_range,longitude=lon_range)\n",
    "    ds_t2m_bdt=ds_t2m.shift(time=6)\n",
    "    ds_t2m_C=ds_t2m_bdt-273.15\n",
    "    ds_t2m_C=ds_t2m_C.assign_attrs(ds_t2m.attrs)\n",
    "    ds_t2m_C.attrs['units']= '° C'\n",
    "    tmax_ds_daily=ds_t2m_C.resample(time='D').max()\n",
    "    t2m_list.append(tmax_ds_daily)\n",
    "max_t2m_no_mask=xr.concat(t2m_list,dim='time')\n",
    "max_t2m_no_mask.to_netcdf('/content/drive/MyDrive/AP_HW/Scripts-ll/HW_dates/data/max_t2m_no_mask.nc')"
   ]
  },
  {
   "cell_type": "code",
   "execution_count": null,
   "id": "20",
   "metadata": {},
   "outputs": [],
   "source": [
    "tmax_ds_daily=xr.open_dataset('/content/drive/MyDrive/AP_HW/Scripts-ll/HW_dates/data/max_t2m_no_mask.nc')\n",
    "tmax_ds_daily"
   ]
  },
  {
   "cell_type": "code",
   "execution_count": null,
   "id": "21",
   "metadata": {},
   "outputs": [],
   "source": [
    "# Calculate the monthly mean of the daily maximum 2-meter temperature\n",
    "monthly_t2m = tmax_ds_daily.resample(time='M').mean(dim='time', skipna=True)\n",
    "monthly_t2m"
   ]
  },
  {
   "cell_type": "code",
   "execution_count": null,
   "id": "22",
   "metadata": {},
   "outputs": [],
   "source": [
    "# Taking Spatial Average for BD\n",
    "\n",
    "weights_t2m=np.cos(np.deg2rad(monthly_t2m.latitude))\n",
    "weights_t2m.name='weights'\n",
    "monthly_t2m_weighted=monthly_t2m.weighted(weights)\n",
    "BD_mean_t2m=monthly_t2m_weighted.mean(['longitude','latitude'])\n",
    "BD_mean_t2m"
   ]
  },
  {
   "cell_type": "code",
   "execution_count": null,
   "id": "23",
   "metadata": {},
   "outputs": [],
   "source": [
    "# creating copy and making dataframe\n",
    "t2m_df=BD_mean_t2m.to_dataframe()\n",
    "t2m_df=t2m_df.reset_index()\n",
    "\n",
    "# Adding necessary columns\n",
    "t2m_df['time']=pd.to_datetime(t2m_df['time'])\n",
    "t2m_df['month']=t2m_df['time'].dt.month\n",
    "t2m_df['year']=t2m_df['time'].dt.year\n",
    "\n",
    "# month to season\n",
    "custom_season_mapping = {\n",
    "    1: 'DJF',\n",
    "    2: 'DJF',\n",
    "    3: 'MAM',\n",
    "    4: 'MAM',\n",
    "    5: 'MAM',\n",
    "    6: 'JJAS',\n",
    "    7: 'JJAS',\n",
    "    8: 'JJAS',\n",
    "    9: 'JJAS',\n",
    "    10: 'ON',\n",
    "    11: 'ON',\n",
    "    12: 'DJF'\n",
    "}\n",
    "\n",
    "# creating season column\n",
    "t2m_df['season']=t2m_df['month'].map(custom_season_mapping)\n",
    "# Separating DJF from others.\n",
    "t2m_df_1=t2m_df[(t2m_df['month']<=2)|(t2m_df['month']>=12)]\n",
    "t2m_df_2=t2m_df[(t2m_df['month']>=3)&(t2m_df['month']<=11)]\n",
    "\n",
    "# performing groupby to get seasonal mean.\n",
    "t2m_seasonal=t2m_df_2.groupby(['year','season'])['t2m'].mean().reset_index()\n",
    "\n",
    "# Mapping dictionary\n",
    "season_mapping = {'DJF': 1, 'MAM': 2, 'JJAS': 3, 'ON': 4}\n",
    "\n",
    "# Assign numerical values to a each season\n",
    "t2m_seasonal['numeric_season'] = t2m_seasonal['season'].map(season_mapping)\n",
    "\n",
    "# Sorting\n",
    "all_season_t2m=t2m_seasonal.sort_values(by=['year','numeric_season'],ascending=[True,True])\n",
    "all_season_t2m=all_season_t2m.reset_index(drop=True)\n",
    "\n",
    "all_season_t2m\n",
    "all_season_t2m.to_csv('/content/drive/MyDrive/AP_HW/Scripts-ll/Trends/data/all_season_t2m.csv',index=False)"
   ]
  },
  {
   "cell_type": "code",
   "execution_count": null,
   "id": "24",
   "metadata": {},
   "outputs": [],
   "source": []
  },
  {
   "cell_type": "markdown",
   "id": "25",
   "metadata": {
    "id": "2nMMek5BN-8C"
   },
   "source": [
    "## Daily Max WBT"
   ]
  },
  {
   "cell_type": "markdown",
   "id": "26",
   "metadata": {
    "id": "rfyjdc4sjEQn"
   },
   "source": [
    "Here we are using Ept data calculated using the `WBT calcualtion.ipynb`"
   ]
  },
  {
   "cell_type": "code",
   "execution_count": null,
   "id": "27",
   "metadata": {},
   "outputs": [],
   "source": [
    "# Here we are using Ept data calculated using the WBT calculation.ipynb\n",
    "\n",
    "wbts=xr.open_mfdataset('/content/drive/MyDrive/AP_HW/Scripts-ll/WBT/wbt_files/*.nc')\n",
    "lat_range=slice(26.5,20.75)\n",
    "lon_range=slice(88,92.5)\n",
    "wbt_ds=wbts.wbt.sel(latitude=lat_range,longitude=lon_range)"
   ]
  },
  {
   "cell_type": "code",
   "execution_count": null,
   "id": "28",
   "metadata": {},
   "outputs": [],
   "source": [
    "# Converting from K to C\n",
    "wbt_ds_C=wbt_ds-273.15\n",
    "wbt_ds_C=wbt_ds_C.assign_attrs(wbt_ds.attrs)\n",
    "wbt_ds_C.attrs['units']= '° C'\n",
    "wbt_ds_C"
   ]
  },
  {
   "cell_type": "code",
   "execution_count": null,
   "id": "29",
   "metadata": {},
   "outputs": [],
   "source": [
    "# Daily Maximums\n",
    "wbt_ds_daily=wbt_ds_C.resample(time='D').max()\n",
    "wbt_ds_daily"
   ]
  },
  {
   "cell_type": "code",
   "execution_count": null,
   "id": "30",
   "metadata": {},
   "outputs": [],
   "source": [
    "# Monthly Means\n",
    "monthly_wbt = wbt_ds_daily.resample(time='M').mean(dim='time', skipna=True)\n",
    "monthly_wbt"
   ]
  },
  {
   "cell_type": "code",
   "execution_count": null,
   "id": "31",
   "metadata": {},
   "outputs": [],
   "source": [
    "# Taking Spatial Average for BD\n",
    "weights=np.cos(np.deg2rad(monthly_wbt.latitude))\n",
    "weights.name='weights'\n",
    "wbt_weighted = monthly_wbt.weighted(weights)\n",
    "BD_mean_wbt= wbt_weighted.mean(['longitude','latitude'])\n",
    "BD_mean_wbt"
   ]
  },
  {
   "cell_type": "code",
   "execution_count": null,
   "id": "32",
   "metadata": {},
   "outputs": [],
   "source": [
    "# creating copy and making dataframe\n",
    "wbt_df=BD_mean_wbt.to_dataframe()\n",
    "wbt_df=wbt_df.reset_index()\n",
    "\n",
    "# Adding necessary columns\n",
    "wbt_df['time']=pd.to_datetime(wbt_df['time'])\n",
    "wbt_df['month']=wbt_df['time'].dt.month\n",
    "wbt_df['year']=wbt_df['time'].dt.year\n",
    "\n",
    "# month to season\n",
    "custom_season_mapping = {\n",
    "    1: 'DJF',\n",
    "    2: 'DJF',\n",
    "    3: 'MAM',\n",
    "    4: 'MAM',\n",
    "    5: 'MAM',\n",
    "    6: 'JJAS',\n",
    "    7: 'JJAS',\n",
    "    8: 'JJAS',\n",
    "    9: 'JJAS',\n",
    "    10: 'ON',\n",
    "    11: 'ON',\n",
    "    12: 'DJF'\n",
    "}\n",
    "\n",
    "# creating season column\n",
    "wbt_df['season']=wbt_df['month'].map(custom_season_mapping)\n",
    "# Separating DJF from others.\n",
    "wbt_df_1=wbt_df[(wbt_df['month']<=2)|(wbt_df['month']>=12)]\n",
    "wbt_df_2=wbt_df[(wbt_df['month']>=3)&(wbt_df['month']<=11)]\n",
    "\n",
    "# performing groupby to get seasonal mean.\n",
    "wbt_seasonal=wbt_df_2.groupby(['year','season'])['wbt'].mean().reset_index()\n",
    "\n",
    "# Mapping dictionary\n",
    "season_mapping = {'DJF': 1, 'MAM': 2, 'JJAS': 3, 'ON': 4}\n",
    "\n",
    "# Assign numerical values to a each season\n",
    "wbt_seasonal['numeric_season'] = wbt_seasonal['season'].map(season_mapping)\n",
    "\n",
    "# Sorting\n",
    "all_season_wbt=wbt_seasonal.sort_values(by=['year','numeric_season'],ascending=[True,True])\n",
    "all_season_wbt=all_season_wbt.reset_index(drop=True)\n",
    "\n",
    "all_season_wbt\n",
    "all_season_wbt.to_csv('/content/drive/MyDrive/AP_HW/Scripts-ll/Trends/data/all_season_wbt.csv',index=False)\n",
    "\n",
    "\n"
   ]
  },
  {
   "cell_type": "markdown",
   "id": "33",
   "metadata": {
    "id": "u151wSXuRPgK"
   },
   "source": [
    "# Plotting the data\n"
   ]
  },
  {
   "cell_type": "code",
   "execution_count": null,
   "id": "34",
   "metadata": {},
   "outputs": [],
   "source": [
    "# Loading the files processed above for plotting.\n",
    "all_season_ept=pd.read_csv('/content/drive/MyDrive/AP_HW/Scripts-ll/Trends/data/all_season_ept.csv')\n",
    "all_season_t2m=pd.read_csv('/content/drive/MyDrive/AP_HW/Scripts-ll/Trends/data/all_season_t2m.csv')\n",
    "all_season_wbt=pd.read_csv('/content/drive/MyDrive/AP_HW/Scripts-ll/Trends/data/all_season_wbt.csv')"
   ]
  },
  {
   "cell_type": "code",
   "execution_count": null,
   "id": "35",
   "metadata": {},
   "outputs": [],
   "source": [
    "all_season_wbt"
   ]
  },
  {
   "cell_type": "code",
   "execution_count": null,
   "id": "36",
   "metadata": {},
   "outputs": [],
   "source": [
    "from scipy import stats\n",
    "\n",
    " # Calculate the linear trend of a given variable over years in a DataFrame\n",
    "def trend_calculation(df, variable):\n",
    "    # Define the years and annual temperature variable for analysis\n",
    "    years = df['year']\n",
    "    t2m_max_annual = df[variable]\n",
    "\n",
    "    # Calculate the linear trend using linear regression\n",
    "    slope, intercept, r_value, p_value, std_err = stats.linregress(years, t2m_max_annual)\n",
    "\n",
    "    # Calculate the trend line\n",
    "    trend_line = slope * years + intercept\n",
    "\n",
    "    # Determine significance percentage\n",
    "    significance_percentage = (1 - p_value) * 100\n",
    "\n",
    "    return trend_line, slope, p_value, significance_percentage\n"
   ]
  },
  {
   "cell_type": "markdown",
   "id": "37",
   "metadata": {
    "id": "yyPkhY7zar06"
   },
   "source": [
    "## Plot"
   ]
  },
  {
   "cell_type": "code",
   "execution_count": null,
   "id": "38",
   "metadata": {},
   "outputs": [],
   "source": [
    "# Plotting t2m,ept,and wbt using the data above.\n",
    "\n",
    "fig, axs = plt.subplots(1,3,figsize=(12, 3.5))\n",
    "\n",
    "season_list = [\"Pre-Monsoon\", \"Monsoon\", \"Post-Monsoon\"]\n",
    "colors = ['red', 'blue', 'green']\n",
    "years = np.arange(1971, 2024 + 1, 1)\n",
    "\n",
    "for i in range(2):\n",
    "    df = all_season_t2m[all_season_t2m['numeric_season'] == i + 2]\n",
    "    trend_line,slope,p_value,significance_percentage=trend_calculation(df,'t2m')\n",
    "    axs[0].plot(df.year, df.t2m, color=colors[i], label=f'{season_list[i]}\\nslope={slope:.2f}, p={p_value:.1e}')  # Add label here\n",
    "    axs[0].plot(df.year,trend_line, color=colors[i], linestyle='--')\n",
    "\n",
    "axs[0].tick_params(axis='x', labelsize=10)\n",
    "axs[0].tick_params(axis='y', labelsize=10)\n",
    "axs[0].set_ylim(28.5,33)\n",
    "axs[0].set_xticks(years[::10])\n",
    "axs[0].set_title('(a)')\n",
    "\n",
    "# Add legend here\n",
    "axs[0].legend(loc='center',bbox_to_anchor=(0.567, 0.08), fontsize=6.5,ncol=3)\n",
    "axs[0].spines['top'].set_visible(False)\n",
    "axs[0].spines['right'].set_visible(False)\n",
    "axs[0].grid(axis='y',linestyle='--')\n",
    "axs[0].set_xlabel('Years',fontsize=9)\n",
    "axs[0].set_ylabel('2-meter Temperature(°C)',fontsize=9)\n",
    "\n",
    "for i in range(2):\n",
    "    df = all_season_ept[all_season_ept['numeric_season'] == i + 2]\n",
    "    trend_line,slope,p_value,significance_percentage=trend_calculation(df,'ept')\n",
    "    axs[1].plot(df.year, df.ept, color=colors[i],label=f'{season_list[i]}\\nslope={slope:.2f}, p={p_value:.1e}')  # Add label here\n",
    "    axs[1].plot(df.year,trend_line, color=colors[i], linestyle='--')\n",
    "\n",
    "axs[1].tick_params(axis='x', labelsize=10)\n",
    "axs[1].tick_params(axis='y', labelsize=10)\n",
    "axs[1].set_ylim(75,104)\n",
    "axs[1].set_xticks(years[::10])\n",
    "axs[1].set_title('(b)')\n",
    "\n",
    "axs[1].legend(loc='center',bbox_to_anchor=(0.567, 0.08), fontsize=6.5,ncol=3)\n",
    "axs[1].spines['top'].set_visible(False)\n",
    "axs[1].spines['right'].set_visible(False)\n",
    "axs[1].grid(axis='y',linestyle='--')\n",
    "axs[1].set_xlabel('Years',fontsize=9)\n",
    "axs[1].set_ylabel('Equivalent Potential Temperature(°C)',labelpad=0,fontsize=9)\n",
    "\n",
    "\n",
    "for i in range(2):\n",
    "    df = all_season_wbt[all_season_wbt['numeric_season'] == i + 2]\n",
    "    trend_line,slope,p_value,significance_percentage=trend_calculation(df,'wbt')\n",
    "    axs[2].plot(df.year, df.wbt, color=colors[i],label=f'{season_list[i]}\\nslope={slope:.2f}, p={p_value:.1e}')  # Add label here\n",
    "    axs[2].plot(df.year,trend_line, color=colors[i], linestyle='--')\n",
    "\n",
    "axs[2].tick_params(axis='x', labelsize=10)\n",
    "axs[2].tick_params(axis='y', labelsize=10)\n",
    "axs[2].set_ylim(23,28)\n",
    "axs[2].set_xticks(years[::10])\n",
    "axs[2].set_title('(c)')\n",
    "\n",
    "axs[2].legend(loc='center',bbox_to_anchor=(0.567, 0.08), fontsize=6.5,ncol=3)\n",
    "axs[2].spines['top'].set_visible(False)\n",
    "axs[2].spines['right'].set_visible(False)\n",
    "axs[2].grid(axis='y',linestyle='--')\n",
    "axs[2].set_xlabel('Years',fontsize=9)\n",
    "axs[2].set_ylabel('Wet Bulb temperature(°C)',labelpad=1,fontsize=9)\n",
    "\n",
    "fig.suptitle('Seasonal Trends in Temperature, Equivalent Potential Temperature and Wet Bulb Temperature (1971–2024)',y=0.96, fontsize=10)\n",
    "fig.tight_layout(pad=1.0)\n",
    "plt.subplots_adjust( wspace=0.18)\n",
    "\n",
    "plt.show()\n",
    "\n",
    "# Save the figure\n",
    "fig.savefig(\"/content/drive/MyDrive/AP_HW/Scripts-ll/Manuscript codes/All_Figures/Fig_2_Trends_of_heat_metrics.jpg\",\n",
    "            dpi=300, format=\"jpg\", bbox_inches=\"tight\")"
   ]
  },
  {
   "cell_type": "code",
   "execution_count": null,
   "id": "39",
   "metadata": {},
   "outputs": [],
   "source": [
    "print('2m Temperature')\n",
    "print('---------------------')\n",
    "\n",
    "for i in range(3):\n",
    "    df = all_season_t2m[all_season_t2m['numeric_season'] == i + 2]\n",
    "    trend_line,slope,p_value,significance_percentage=trend_calculation(df,'t2m')\n",
    "\n",
    "    print(df['season'][i],': ',f'slope={slope:.2f}',f'significance={significance_percentage:.2f}')\n",
    "print('Equivalent potential temperature')\n",
    "print('---------------------')\n",
    "for i in range(3):\n",
    "    df = all_season_ept[all_season_ept['numeric_season'] == i + 2]\n",
    "    trend_line,slope,p_value,significance_percentage=trend_calculation(df,'ept')\n",
    "\n",
    "    print(df['season'][i],': ',f'slope={slope:.2f}',f'significance={significance_percentage:.2f}')\n",
    "print('Wet bulb temperature')\n",
    "print('---------------------')\n",
    "for i in range(3):\n",
    "    df = all_season_wbt[all_season_wbt['numeric_season'] == i + 2]\n",
    "    trend_line,slope,p_value,significance_percentage=trend_calculation(df,'wbt')\n",
    "\n",
    "    print(df['season'][i],': ',f'slope={slope:.2f}',f'significance={significance_percentage:.2f}')\n",
    "\n"
   ]
  },
  {
   "cell_type": "code",
   "execution_count": null,
   "id": "40",
   "metadata": {},
   "outputs": [],
   "source": []
  }
 ],
 "metadata": {
  "language_info": {
   "name": "python"
  }
 },
 "nbformat": 4,
 "nbformat_minor": 5
}

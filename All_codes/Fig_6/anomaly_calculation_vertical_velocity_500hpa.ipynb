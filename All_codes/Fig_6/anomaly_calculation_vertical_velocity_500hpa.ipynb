{
 "cells": [
  {
   "cell_type": "code",
   "execution_count": null,
   "metadata": {},
   "outputs": [],
   "source": [
    "from google.colab import drive\n",
    "drive.mount('/content/drive')"
   ]
  },
  {
   "cell_type": "code",
   "execution_count": null,
   "metadata": {},
   "outputs": [],
   "source": [
    "!pip install cartopy"
   ]
  },
  {
   "cell_type": "code",
   "execution_count": null,
   "metadata": {},
   "outputs": [],
   "source": [
    "import  xarray as xr\n",
    "import pandas as pd\n",
    "import numpy as np\n",
    "import matplotlib.pyplot as plt\n",
    "from datetime import datetime,timedelta\n",
    "import warnings\n",
    "import math\n",
    "from tqdm.auto import tqdm"
   ]
  },
  {
   "cell_type": "code",
   "execution_count": null,
   "metadata": {},
   "outputs": [],
   "source": [
    "import warnings\n",
    "warnings.filterwarnings('ignore')\n",
    "\n",
    "import numpy as np\n",
    "import pandas as pd\n",
    "import matplotlib.pyplot as plt\n",
    "\n",
    "import cartopy.feature as cf\n",
    "import cartopy.crs as ccrs\n",
    "import cartopy.mpl.ticker as cticker\n",
    "\n",
    "from cartopy.util import add_cyclic_point\n",
    "from matplotlib import animation\n",
    "from tqdm.auto import tqdm\n",
    "from datetime import datetime,timedelta\n",
    "\n",
    "from matplotlib.cm import get_cmap\n",
    "warnings.filterwarnings(\"ignore\")"
   ]
  },
  {
   "cell_type": "markdown",
   "metadata": {
    "id": "eWllT_YxAP6A"
   },
   "source": [
    "\n",
    "*   We calculated the **500hpa vertical velocity anomalies** for each event using the dates from `HW_list_rolling_def.csv` for **pre-monsoon (MAM)** and **monsoon (JJAS)** seasons.  \n",
    "*   The **climatology** for **pre-monsoon (MAM)** and **monsoon (JJAS)** season was derived from ERA5  500hpa vertical velocity data (1981–2010) and computed in :\n",
    "    - `climatology_calculation_500hPa_vertical_velocity.ipynb`\n",
    "\n",
    "\n",
    "\n"
   ]
  },
  {
   "cell_type": "markdown",
   "metadata": {
    "id": "7rKqp--CmKXq"
   },
   "source": [
    "# MAM"
   ]
  },
  {
   "cell_type": "code",
   "execution_count": null,
   "metadata": {},
   "outputs": [],
   "source": [
    "# @title Heat date list\n",
    "list_hw=pd.read_csv('/content/drive/MyDrive/AP_HW/Scripts-ll/HW_dates/data/HW_list_rolling_def.csv')\n",
    "list_hw['Starting_Date'] = pd.to_datetime(list_hw[\"Starting_Date\"])\n",
    "list_hw['Ending_Date'] = pd.to_datetime(list_hw[\"Ending_Date\"])\n",
    "\n",
    "# separate hw for mam season\n",
    "mam_hw_list =list_hw[(list_hw['Starting_Date'].dt.month >= 3) & (list_hw['Starting_Date'].dt.month <= 5)]\n",
    "mam_hw_list.reset_index(inplace=True,drop=True)\n",
    "mam_hw_list\n"
   ]
  },
  {
   "cell_type": "code",
   "execution_count": null,
   "metadata": {},
   "outputs": [],
   "source": [
    "# @title Event data for composite analysis\n",
    "\n",
    "import matplotlib.pyplot as plt\n",
    "import cartopy.crs as ccrs\n",
    "import numpy as np\n",
    "import matplotlib.colors as colors\n",
    "\n",
    "# List to store anomalies for each event\n",
    "vv_anom_list = []\n",
    "\n",
    "\n",
    "for i in tqdm(range(len(mam_hw_list['Starting_Date']))):\n",
    "  # Extract event info\n",
    "  year=mam_hw_list['Starting_Date'].dt.year.iloc[i]\n",
    "  start_time =str(mam_hw_list['Starting_Date'][i])\n",
    "  end_time = str(mam_hw_list['Ending_Date'][i])\n",
    "\n",
    "  # Adjust times to Bangladesh timezone\n",
    "  start_time =str(np.datetime64(start_time) - np.timedelta64(6, 'h')) # Substracting 6hrs to convert to BD time.\n",
    "  end_time =str(np.datetime64(end_time) - np.timedelta64(6, 'h')+ np.timedelta64(24,'h')) # Adding 24hrs to include the end date too.\n",
    "  time_range=slice(start_time,end_time)\n",
    "  event_no=i+1\n",
    "  ###################################\n",
    "  ############# vv ################\n",
    "  # Load vertical velocity and climatology files\n",
    "  ds_vv = xr.open_dataset(f'/content/drive/MyDrive/AP_HW/ERA5 Data/vertical_velocity_500/vv_500-{year}.nc')\n",
    "  vv_clim=xr.open_dataset('/content/drive/MyDrive/AP_HW/Scripts-ll/climatology/data/vv/vv_500_mam_climatology.nc')\n",
    "\n",
    "  # Select event period and compute mean\n",
    "  ds_vv=ds_vv.sel(valid_time=time_range,pressure_level=500)\n",
    "  ds_vv=ds_vv.mean(dim='valid_time',skipna=True)\n",
    "\n",
    "  # Compute anomaly and assign event number\n",
    "  vv_anom=ds_vv-vv_clim\n",
    "  vv_anom.coords['event_no'] = event_no\n",
    "\n",
    "  # Add to anomaly list\n",
    "  vv_anom_list.append(vv_anom)\n",
    "\n",
    "# Concatenate all event anomalies and save to file\n",
    "vv_events_anom_mam = xr.concat(vv_anom_list, dim='event_no')\n",
    "vv_events_anom_mam.to_netcdf(f'/content/drive/MyDrive/AP_HW/Scripts-ll/vertical_velocity/data/vv_events_anom-mam.nc')"
   ]
  },
  {
   "cell_type": "code",
   "execution_count": null,
   "metadata": {},
   "outputs": [],
   "source": []
  },
  {
   "cell_type": "markdown",
   "metadata": {
    "id": "0Apx6G-14o3q"
   },
   "source": [
    "# JJAS"
   ]
  },
  {
   "cell_type": "code",
   "execution_count": null,
   "metadata": {},
   "outputs": [],
   "source": [
    "# @title Heat date list\n",
    "list_hw=pd.read_csv('/content/drive/MyDrive/AP_HW/Scripts-ll/HW_dates/data/HW_list_rolling_def.csv')\n",
    "list_hw['Starting_Date'] = pd.to_datetime(list_hw[\"Starting_Date\"])\n",
    "list_hw['Ending_Date'] = pd.to_datetime(list_hw[\"Ending_Date\"])\n",
    "\n",
    "# separate hw for jjas season\n",
    "jjas_hw_list =list_hw[(list_hw['Starting_Date'].dt.month >= 6) & (list_hw['Starting_Date'].dt.month <= 9)]\n",
    "jjas_hw_list.reset_index(inplace=True,drop=True)\n",
    "jjas_hw_list"
   ]
  },
  {
   "cell_type": "code",
   "execution_count": null,
   "metadata": {},
   "outputs": [],
   "source": [
    "# @title Event data for composite analysis\n",
    "\n",
    "import matplotlib.pyplot as plt\n",
    "import cartopy.crs as ccrs\n",
    "import numpy as np\n",
    "import matplotlib.colors as colors\n",
    "\n",
    "# List to store anomalies for each event\n",
    "vv_anom_list = []\n",
    "\n",
    "\n",
    "for i in tqdm(range(len(jjas_hw_list['Starting_Date']))):\n",
    "  # Extract event info\n",
    "  year=jjas_hw_list['Starting_Date'].dt.year.iloc[i]\n",
    "  start_time =str(jjas_hw_list['Starting_Date'][i])\n",
    "  end_time = str(jjas_hw_list['Ending_Date'][i])\n",
    "\n",
    "  # Adjust times to Bangladesh timezone\n",
    "  start_time =str(np.datetime64(start_time) - np.timedelta64(6, 'h')) # Substracting 6hrs to convert to BD time.\n",
    "  end_time =str(np.datetime64(end_time) - np.timedelta64(6, 'h')+ np.timedelta64(24,'h')) # Adding 24hrs to include the end date too.\n",
    "  time_range=slice(start_time,end_time)\n",
    "  event_no=i+1\n",
    "\n",
    "  ###################################\n",
    "  ############# vv ################\n",
    "  # Load vertical velocity and climatology files\n",
    "  ds_vv = xr.open_dataset(f'/content/drive/MyDrive/AP_HW/ERA5 Data/vertical_velocity_500/vv_500-{year}.nc')\n",
    "  vv_clim=xr.open_dataset('/content/drive/MyDrive/AP_HW/Scripts-ll/climatology/data/vv/vv_500_jjas_climatology.nc')\n",
    "\n",
    "  # Select event period and compute mean\n",
    "  ds_vv=ds_vv.sel(valid_time=time_range,pressure_level=500)\n",
    "  ds_vv=ds_vv.mean(dim='valid_time',skipna=True)\n",
    "\n",
    "  # Compute anomaly and assign event number\n",
    "  vv_anom=ds_vv-vv_clim\n",
    "  vv_anom.coords['event_no'] = event_no\n",
    "\n",
    "  # Add to anomaly list\n",
    "  vv_anom_list.append(vv_anom)\n",
    "\n",
    "# Concatenate all event anomalies and save to file\n",
    "vv_events_anom_jjas = xr.concat(vv_anom_list, dim='event_no')\n",
    "vv_events_anom_jjas.to_netcdf(f'/content/drive/MyDrive/AP_HW/Scripts-ll/vertical_velocity/data/vv_events_anom-jjas.nc')"
   ]
  },
  {
   "cell_type": "code",
   "execution_count": null,
   "metadata": {},
   "outputs": [],
   "source": [
    "print('done')"
   ]
  },
  {
   "cell_type": "markdown",
   "metadata": {
    "id": "42B1nVKcnwLe"
   },
   "source": [
    " Vertical Velocity: upward motion/ascent (negative values) and downward motion/subsidence (positive values)"
   ]
  }
 ],
 "metadata": {
  "language_info": {
   "name": "python"
  }
 },
 "nbformat": 4,
 "nbformat_minor": 0
}

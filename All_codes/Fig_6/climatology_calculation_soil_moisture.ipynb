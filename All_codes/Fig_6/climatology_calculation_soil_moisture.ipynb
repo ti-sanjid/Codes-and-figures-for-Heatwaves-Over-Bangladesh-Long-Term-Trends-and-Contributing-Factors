{
 "cells": [
  {
   "cell_type": "code",
   "execution_count": null,
   "metadata": {},
   "outputs": [],
   "source": [
    "from google.colab import drive\n",
    "drive.mount('/content/drive')"
   ]
  },
  {
   "cell_type": "code",
   "execution_count": null,
   "metadata": {},
   "outputs": [],
   "source": [
    "!pip install cartopy\n"
   ]
  },
  {
   "cell_type": "code",
   "execution_count": null,
   "metadata": {},
   "outputs": [],
   "source": [
    "import  xarray as xr\n",
    "import pandas as pd\n",
    "import numpy as np\n",
    "import matplotlib.pyplot as plt\n",
    "from datetime import datetime,timedelta\n",
    "import warnings\n",
    "import math\n",
    "from tqdm.auto import tqdm"
   ]
  },
  {
   "cell_type": "code",
   "execution_count": null,
   "metadata": {},
   "outputs": [],
   "source": [
    "import warnings\n",
    "warnings.filterwarnings('ignore')\n",
    "\n",
    "import numpy as np\n",
    "import pandas as pd\n",
    "import matplotlib.pyplot as plt\n",
    "\n",
    "import cartopy.feature as cf\n",
    "import cartopy.crs as ccrs\n",
    "import cartopy.mpl.ticker as cticker\n",
    "\n",
    "from cartopy.util import add_cyclic_point\n",
    "from matplotlib import animation\n",
    "from tqdm.auto import tqdm\n",
    "from datetime import datetime,timedelta\n",
    "\n",
    "from matplotlib.cm import get_cmap\n",
    "warnings.filterwarnings(\"ignore\")"
   ]
  },
  {
   "cell_type": "markdown",
   "metadata": {
    "id": "ISE05ig1EA0r"
   },
   "source": []
  },
  {
   "cell_type": "markdown",
   "metadata": {
    "id": "RO53SN2UDSbt"
   },
   "source": [
    "The **climatology** for **pre-monsoon (MAM)** and **monsoon (JJAS)** season was derived from ERA5 **Volumetric soil water layer 1**  data (1981–2010)"
   ]
  },
  {
   "cell_type": "code",
   "execution_count": null,
   "metadata": {},
   "outputs": [],
   "source": [
    "ds=xr.open_dataset('/content/drive/MyDrive/AP_HW/ERA5 Data/vswl1/vswl1-1971.nc')\n",
    "ds"
   ]
  },
  {
   "cell_type": "markdown",
   "metadata": {
    "id": "8kIOIr5ICRfA"
   },
   "source": [
    "# MAM Climatolgoy"
   ]
  },
  {
   "cell_type": "code",
   "execution_count": null,
   "metadata": {},
   "outputs": [],
   "source": [
    "import os\n",
    "from tqdm.auto import tqdm\n",
    "import datetime\n",
    "\n",
    "# Print process start time\n",
    "print(datetime.datetime.utcnow() + datetime.timedelta(hours=6))\n",
    "\n",
    "directory_path = '/content/drive/MyDrive/AP_HW/ERA5 Data/vswl1'\n",
    "\n",
    "# List to store yearly datasets\n",
    "sm_list=[]\n",
    "\n",
    "for filename in tqdm(sorted(os.listdir(directory_path))):\n",
    "  if filename.endswith('.nc'):\n",
    "    # Open dataset\n",
    "    file_path=os.path.join(directory_path,filename)\n",
    "    year= filename[-7:-3]\n",
    "    ds_swvl1=xr.open_dataset(file_path)\n",
    "\n",
    "    # Define MAM period\n",
    "    start_time=str(np.datetime64('{}-03-01T00:00:00.000000000'.format(year)) - np.timedelta64(6, 'h'))\n",
    "    end_time=str(np.datetime64('{}-05-31T17:00:00.000000000'.format(year)))\n",
    "    time_range=slice(start_time,end_time)\n",
    "    ds_swvl1=ds_swvl1.sel(valid_time=time_range)\n",
    "\n",
    "    # Adjust times to Bangladesh timezone\n",
    "    ds_swvl1['valid_time']=ds_swvl1['valid_time']+np.timedelta64(6,'h')\n",
    "\n",
    "    # Yearly mean\n",
    "    ds_swvl1=ds_swvl1.groupby('valid_time.year').mean(dim='valid_time',skipna=True)\n",
    "\n",
    "    # Add to list\n",
    "    sm_list.append(ds_swvl1)\n",
    "\n",
    "# Concatenate all years\n",
    "sm_ds=xr.concat(sm_list,dim='year')\n",
    "\n",
    "# Compute climatology\n",
    "sm_clim_ds=sm_ds.sel(year=slice(1981,2010))\n",
    "sm_climatology=sm_clim_ds.mean(dim='year',skipna=True)\n",
    "sm_climatology.to_netcdf('/content/drive/MyDrive/AP_HW/Scripts-ll/climatology/data/sm/swvl1_mam_climatology.nc')\n",
    "\n",
    "\n",
    "# Print process end time\n",
    "print(datetime.datetime.utcnow() + datetime.timedelta(hours=6))"
   ]
  },
  {
   "cell_type": "markdown",
   "metadata": {
    "id": "T2ujeCH3otNV"
   },
   "source": [
    "# JJAS climatology"
   ]
  },
  {
   "cell_type": "code",
   "execution_count": null,
   "metadata": {},
   "outputs": [],
   "source": [
    "import os\n",
    "from tqdm.auto import tqdm\n",
    "import datetime\n",
    "# Print process start time\n",
    "print(datetime.datetime.utcnow() + datetime.timedelta(hours=6))\n",
    "\n",
    "directory_path = '/content/drive/MyDrive/AP_HW/ERA5 Data/vswl1'\n",
    "\n",
    "# List to store yearly datasets\n",
    "sm_list=[]\n",
    "\n",
    "for filename in tqdm(sorted(os.listdir(directory_path))):\n",
    "  if filename.endswith('.nc'):\n",
    "    # Open dataset\n",
    "    file_path=os.path.join(directory_path,filename)\n",
    "    year= filename[-7:-3]\n",
    "    ds_swvl1=xr.open_dataset(file_path)\n",
    "\n",
    "    # Define JJAS period\n",
    "    start_time=str(np.datetime64('{}-06-01T00:00:00.000000000'.format(year)) - np.timedelta64(6, 'h'))\n",
    "    end_time=str(np.datetime64('{}-09-30T17:00:00.000000000'.format(year)))\n",
    "    time_range=slice(start_time,end_time)\n",
    "    ds_swvl1=ds_swvl1.sel(valid_time=time_range)\n",
    "\n",
    "    # Adjust times to Bangladesh timezone\n",
    "    ds_swvl1['valid_time']=ds_swvl1['valid_time']+np.timedelta64(6,'h')\n",
    "\n",
    "    # Yearly mean\n",
    "    ds_swvl1=ds_swvl1.groupby('valid_time.year').mean(dim='valid_time',skipna=True)\n",
    "\n",
    "    # Add to list\n",
    "    sm_list.append(ds_swvl1)\n",
    "\n",
    "# Concatenate all years\n",
    "sm_ds=xr.concat(sm_list,dim='year')\n",
    "\n",
    "# Compute climatology\n",
    "sm_clim_ds=sm_ds.sel(year=slice(1981,2010))\n",
    "sm_climatology=sm_clim_ds.mean(dim='year',skipna=True)\n",
    "sm_climatology.to_netcdf('/content/drive/MyDrive/AP_HW/Scripts-ll/climatology/data/sm/swvl1_jjas_climatology.nc')\n",
    "\n",
    "# Print process end time\n",
    "print(datetime.datetime.utcnow() + datetime.timedelta(hours=6))"
   ]
  }
 ],
 "metadata": {
  "language_info": {
   "name": "python"
  }
 },
 "nbformat": 4,
 "nbformat_minor": 0
}

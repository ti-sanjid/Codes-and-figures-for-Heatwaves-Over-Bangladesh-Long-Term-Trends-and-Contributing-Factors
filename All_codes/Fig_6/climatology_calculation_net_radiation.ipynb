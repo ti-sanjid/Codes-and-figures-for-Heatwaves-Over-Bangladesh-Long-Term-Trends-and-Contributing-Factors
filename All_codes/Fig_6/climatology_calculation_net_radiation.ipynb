{
 "cells": [
  {
   "cell_type": "code",
   "execution_count": null,
   "metadata": {},
   "outputs": [],
   "source": [
    "from google.colab import drive\n",
    "drive.mount('/content/drive')"
   ]
  },
  {
   "cell_type": "code",
   "execution_count": null,
   "metadata": {},
   "outputs": [],
   "source": [
    "!pip install cartopy\n"
   ]
  },
  {
   "cell_type": "code",
   "execution_count": null,
   "metadata": {},
   "outputs": [],
   "source": [
    "import  xarray as xr\n",
    "import pandas as pd\n",
    "import numpy as np\n",
    "import matplotlib.pyplot as plt\n",
    "from datetime import datetime,timedelta\n",
    "import warnings\n",
    "import math\n",
    "from tqdm.auto import tqdm"
   ]
  },
  {
   "cell_type": "code",
   "execution_count": null,
   "metadata": {},
   "outputs": [],
   "source": [
    "import warnings\n",
    "warnings.filterwarnings('ignore')\n",
    "\n",
    "import numpy as np\n",
    "import pandas as pd\n",
    "import matplotlib.pyplot as plt\n",
    "\n",
    "import cartopy.feature as cf\n",
    "import cartopy.crs as ccrs\n",
    "import cartopy.mpl.ticker as cticker\n",
    "\n",
    "from cartopy.util import add_cyclic_point\n",
    "from matplotlib import animation\n",
    "from tqdm.auto import tqdm\n",
    "from datetime import datetime,timedelta\n",
    "\n",
    "from matplotlib.cm import get_cmap\n",
    "warnings.filterwarnings(\"ignore\")"
   ]
  },
  {
   "cell_type": "markdown",
   "metadata": {
    "id": "g8ExlUdLDg8r"
   },
   "source": []
  },
  {
   "cell_type": "markdown",
   "metadata": {
    "id": "RO53SN2UDSbt"
   },
   "source": [
    "The **climatology** for **pre-monsoon (MAM)** and **monsoon (JJAS)** season was derived from ERA5 **mean surface net long-wave radiation flux and mean surface net short-wave radiation flux**  data (1981–2010)"
   ]
  },
  {
   "cell_type": "code",
   "execution_count": null,
   "metadata": {},
   "outputs": [],
   "source": [
    "ds=xr.open_dataset('/content/drive/MyDrive/AP_HW/ERA5 Data/Mean_radiation/net_sw_lw-2024.nc')\n",
    "ds"
   ]
  },
  {
   "cell_type": "markdown",
   "metadata": {
    "id": "074QFM6CU3Mm"
   },
   "source": [
    "# MAM Climatology"
   ]
  },
  {
   "cell_type": "code",
   "execution_count": null,
   "metadata": {},
   "outputs": [],
   "source": [
    "import os\n",
    "from tqdm.auto import tqdm\n",
    "import datetime\n",
    "\n",
    "# Print process start time\n",
    "print(datetime.datetime.utcnow() + datetime.timedelta(hours=6))\n",
    "\n",
    "# List to store yearly datasets\n",
    "nr_list=[]\n",
    "\n",
    "directory_path = '/content/drive/MyDrive/AP_HW/ERA5 Data/Mean_radiation'\n",
    "\n",
    "# Loop over all .nc files in directory\n",
    "for filename in tqdm(sorted(os.listdir(directory_path))):\n",
    "    if filename.endswith('.nc'):\n",
    "        # Open dataset\n",
    "        file_path = os.path.join(directory_path, filename)\n",
    "        year = filename[10:-3]\n",
    "        ds = xr.open_dataset(file_path)\n",
    "\n",
    "        # Define MAM period\n",
    "        start_time = str(np.datetime64(f'{year}-03-01T00:00:00.000000000') - np.timedelta64(6, 'h'))\n",
    "        end_time = str(np.datetime64(f'{year}-05-31T17:00:00.000000000'))\n",
    "        time_range = slice(start_time, end_time)\n",
    "        ds = ds.sel(valid_time=time_range)\n",
    "\n",
    "        # Adjust times to Bangladesh timezone\n",
    "        ds['valid_time'] = ds['valid_time'] + np.timedelta64(6, 'h')\n",
    "\n",
    "        # Yearly mean\n",
    "        ds = ds.groupby('valid_time.year').mean(dim='valid_time', skipna=True)\n",
    "\n",
    "        # Add to list\n",
    "        nr_list.append(ds)\n",
    "\n",
    "# Concatenate all years\n",
    "nr_ds = xr.concat(nr_list, dim='year')\n",
    "\n",
    "# Compute climatology\n",
    "nr_clim_ds = nr_ds.sel(year=slice(1981, 2010))\n",
    "nr_climatology = nr_clim_ds.mean(dim='year', skipna=True)\n",
    "nr_climatology.to_netcdf('/content/drive/MyDrive/AP_HW/Scripts-ll/climatology/data/radiation/net_sw_lw_climatology-mam.nc')  # Save to NetCDF\n",
    "\n",
    "# Print process end time\n",
    "print(datetime.datetime.utcnow() + datetime.timedelta(hours=6))\n"
   ]
  },
  {
   "cell_type": "markdown",
   "metadata": {
    "id": "ycN4UI7rO47o"
   },
   "source": [
    "# JJAS Climatology"
   ]
  },
  {
   "cell_type": "code",
   "execution_count": null,
   "metadata": {},
   "outputs": [],
   "source": [
    "import os\n",
    "from tqdm.auto import tqdm\n",
    "import datetime\n",
    "\n",
    "# Print process start time\n",
    "print(datetime.datetime.utcnow() + datetime.timedelta(hours=6))\n",
    "\n",
    "# List to store yearly datasets\n",
    "nr_list = []\n",
    "\n",
    "directory_path = '/content/drive/MyDrive/AP_HW/ERA5 Data/Mean_radiation'\n",
    "\n",
    "# Loop over all .nc files in directory\n",
    "for filename in tqdm(sorted(os.listdir(directory_path))):\n",
    "    if filename.endswith('.nc'):\n",
    "        # Open dataset\n",
    "        file_path = os.path.join(directory_path, filename)\n",
    "        year = filename[10:-3]\n",
    "        ds = xr.open_dataset(file_path)\n",
    "\n",
    "        # Define MAM period\n",
    "        start_time = str(np.datetime64(f'{year}-06-01T00:00:00.000000000') - np.timedelta64(6, 'h'))\n",
    "        end_time = str(np.datetime64(f'{year}-09-30T17:00:00.000000000'))\n",
    "        time_range = slice(start_time, end_time)\n",
    "        ds = ds.sel(valid_time=time_range)  # Select time range\n",
    "\n",
    "        # Adjust times to Bangladesh timezone\n",
    "        ds['valid_time'] = ds['valid_time'] + np.timedelta64(6, 'h')\n",
    "\n",
    "        # Yearly mean\n",
    "        ds = ds.groupby('valid_time.year').mean(dim='valid_time', skipna=True)  # Yearly mean\n",
    "\n",
    "        # Append to list\n",
    "        nr_list.append(ds)\n",
    "\n",
    "# Concatenate all years\n",
    "nr_ds = xr.concat(nr_list, dim='year')\n",
    "\n",
    "# Compute climatology\n",
    "nr_clim_ds = nr_ds.sel(year=slice(1981, 2010))\n",
    "nr_climatology = nr_clim_ds.mean(dim='year', skipna=True)\n",
    "nr_climatology.to_netcdf('/content/drive/MyDrive/AP_HW/Scripts-ll/climatology/data/radiation/net_sw_lw_climatology-jjas.nc')  # Save to NetCDF\n",
    "\n",
    "# Print process end time\n",
    "print(datetime.datetime.utcnow() + datetime.timedelta(hours=6))\n"
   ]
  }
 ],
 "metadata": {
  "language_info": {
   "name": "python"
  }
 },
 "nbformat": 4,
 "nbformat_minor": 0
}

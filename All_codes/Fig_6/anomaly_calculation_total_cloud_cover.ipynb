{
 "cells": [
  {
   "cell_type": "code",
   "execution_count": null,
   "metadata": {},
   "outputs": [],
   "source": [
    "!pip install cartopy"
   ]
  },
  {
   "cell_type": "code",
   "execution_count": null,
   "metadata": {},
   "outputs": [],
   "source": [
    "from google.colab import drive\n",
    "drive.mount('/content/drive')"
   ]
  },
  {
   "cell_type": "code",
   "execution_count": null,
   "metadata": {},
   "outputs": [],
   "source": [
    "import  xarray as xr\n",
    "import pandas as pd\n",
    "import numpy as np\n",
    "import matplotlib.pyplot as plt\n",
    "from datetime import datetime,timedelta\n",
    "import warnings\n",
    "import math\n",
    "from tqdm.auto import tqdm"
   ]
  },
  {
   "cell_type": "code",
   "execution_count": null,
   "metadata": {},
   "outputs": [],
   "source": [
    "import warnings\n",
    "warnings.filterwarnings('ignore')\n",
    "\n",
    "import numpy as np\n",
    "import pandas as pd\n",
    "import matplotlib.pyplot as plt\n",
    "\n",
    "import cartopy.feature as cf\n",
    "import cartopy.crs as ccrs\n",
    "import cartopy.mpl.ticker as cticker\n",
    "\n",
    "from cartopy.util import add_cyclic_point\n",
    "from matplotlib import animation\n",
    "from tqdm.auto import tqdm\n",
    "from datetime import datetime,timedelta\n",
    "\n",
    "from matplotlib.cm import get_cmap\n",
    "warnings.filterwarnings(\"ignore\")"
   ]
  },
  {
   "cell_type": "code",
   "execution_count": null,
   "metadata": {},
   "outputs": [],
   "source": [
    "ds=xr.open_dataset('/content/drive/MyDrive/AP_HW/ERA5 Data/total_cloud_cover/tcc-2024.nc')\n",
    "ds"
   ]
  },
  {
   "cell_type": "markdown",
   "metadata": {
    "id": "H8tg7zBJdSHB"
   },
   "source": [
    "\n",
    "*   We calculated the **total cloud cover anomalies** for each event using the dates from `HW_list_rolling_def.csv` for **pre-monsoon (MAM)** and **monsoon (JJAS)** seasons.  \n",
    "*   The **climatology** for **pre-monsoon (MAM)** and **monsoon (JJAS)** season was derived from ERA5 total cloud cover data (1981–2010) and computed in :\n",
    "    - `climatology_calculation_total_colud_cover.ipynb`\n",
    "\n",
    "\n"
   ]
  },
  {
   "cell_type": "markdown",
   "metadata": {
    "id": "kvafIY64aJqg"
   },
   "source": [
    "# MAM"
   ]
  },
  {
   "cell_type": "code",
   "execution_count": null,
   "metadata": {},
   "outputs": [],
   "source": [
    "# @title Heat date list\n",
    "list_hw=pd.read_csv('/content/drive/MyDrive/AP_HW/Scripts-ll/HW_dates/data/HW_list_rolling_def.csv')\n",
    "list_hw['Starting_Date'] = pd.to_datetime(list_hw[\"Starting_Date\"])\n",
    "list_hw['Ending_Date'] = pd.to_datetime(list_hw[\"Ending_Date\"])\n",
    "\n",
    "# separate hw for mam season\n",
    "mam_hw_list =list_hw[(list_hw['Starting_Date'].dt.month >= 3) & (list_hw['Starting_Date'].dt.month <= 5)]\n",
    "mam_hw_list.reset_index(inplace=True,drop=True)\n",
    "mam_hw_list"
   ]
  },
  {
   "cell_type": "code",
   "execution_count": null,
   "metadata": {},
   "outputs": [],
   "source": [
    "# @title Event data for composite analysis-anomaly\n",
    "\n",
    "import matplotlib.pyplot as plt\n",
    "import numpy as np\n",
    "import matplotlib.colors as colors\n",
    "\n",
    "anom_list=[]  # List to store anomalies for each event\n",
    "\n",
    "for i in tqdm(range(len(mam_hw_list['Starting_Date']))):\n",
    "    # Extract event info\n",
    "    year = mam_hw_list['Starting_Date'].dt.year.iloc[i]\n",
    "    start_time = str(mam_hw_list['Starting_Date'][i])\n",
    "    end_time = str(mam_hw_list['Ending_Date'][i])\n",
    "\n",
    "    # Adjust times to Bangladesh timezone\n",
    "    start_time = str(np.datetime64(start_time) - np.timedelta64(6, 'h'))\n",
    "    end_time = str(np.datetime64(end_time) - np.timedelta64(6, 'h') + np.timedelta64(24, 'h'))\n",
    "    time_range = slice(start_time, end_time)\n",
    "    event_no = i + 1\n",
    "\n",
    "    ###################################\n",
    "    ############# tcc ################\n",
    "    # Load total cloud cover data and climatology files\n",
    "    ds_tcc = xr.open_dataset(f\"/content/drive/MyDrive/AP_HW/ERA5 Data/total_cloud_cover/tcc-{year}.nc\")\n",
    "    tcc_clim = xr.open_dataset('/content/drive/MyDrive/AP_HW/Scripts-ll/climatology/data/tcc/tcc_climatology-mam.nc')\n",
    "\n",
    "    # Select event period and compute mean\n",
    "    ds_tcc = ds_tcc.sel(valid_time=time_range)\n",
    "    ds_tcc = ds_tcc.mean(dim='valid_time', skipna=True)\n",
    "\n",
    "    # Compute anomaly and assign event number\n",
    "    tcc_anom = ds_tcc - tcc_clim\n",
    "    tcc_anom = tcc_anom.assign_coords(event_no=event_no)\n",
    "\n",
    "    # Add to anomaly list\n",
    "    anom_list.append(tcc_anom)\n",
    "\n",
    "# Concatenate all event anomalies and save to file\n",
    "tcc_events_anom_mam = xr.concat(anom_list, dim='event_no')\n",
    "tcc_events_anom_mam.to_netcdf('/content/drive/MyDrive/AP_HW/Scripts-ll/tcc/data/tcc_events_anom-mam.nc')\n"
   ]
  },
  {
   "cell_type": "markdown",
   "metadata": {
    "id": "aXVvOY5wAfW8"
   },
   "source": [
    "# JJAS"
   ]
  },
  {
   "cell_type": "code",
   "execution_count": null,
   "metadata": {},
   "outputs": [],
   "source": [
    "# @title Heat date list\n",
    "list_hw=pd.read_csv('/content/drive/MyDrive/AP_HW/Scripts-ll/HW_dates/data/HW_list_rolling_def.csv')\n",
    "list_hw['Starting_Date'] = pd.to_datetime(list_hw[\"Starting_Date\"])\n",
    "list_hw['Ending_Date'] = pd.to_datetime(list_hw[\"Ending_Date\"])\n",
    "\n",
    "# separate hw for jjas season\n",
    "jjas_hw_list =list_hw[(list_hw['Starting_Date'].dt.month >= 6) & (list_hw['Starting_Date'].dt.month <= 9)]\n",
    "jjas_hw_list.reset_index(inplace=True,drop=True)\n",
    "jjas_hw_list"
   ]
  },
  {
   "cell_type": "code",
   "execution_count": null,
   "metadata": {},
   "outputs": [],
   "source": [
    "# @title Event data for composite analysis-anomaly\n",
    "\n",
    "import matplotlib.pyplot as plt\n",
    "# import cartopy.crs as ccrs\n",
    "import numpy as np\n",
    "import matplotlib.colors as colors\n",
    "\n",
    "anom_list = []  # List to store anomalies for each event\n",
    "\n",
    "for i in tqdm(range(len(jjas_hw_list['Starting_Date']))):\n",
    "    # Extract event info\n",
    "    year = jjas_hw_list['Starting_Date'].dt.year.iloc[i]\n",
    "    start_time = str(jjas_hw_list['Starting_Date'][i])\n",
    "    end_time = str(jjas_hw_list['Ending_Date'][i])\n",
    "\n",
    "    # Adjust times to Bangladesh timezone\n",
    "    start_time = str(np.datetime64(start_time) - np.timedelta64(6, 'h'))  # Subtract 6 hrs\n",
    "    end_time = str(np.datetime64(end_time) - np.timedelta64(6, 'h') + np.timedelta64(24, 'h'))  # Include end date\n",
    "    time_range = slice(start_time, end_time)\n",
    "    event_no = i + 1\n",
    "\n",
    "    ###################################\n",
    "    ############# tcc ################\n",
    "    # Load total cloud cover data and climatology files\n",
    "    ds_tcc = xr.open_dataset(f\"/content/drive/MyDrive/AP_HW/ERA5 Data/total_cloud_cover/tcc-{year}.nc\")\n",
    "    tcc_clim = xr.open_dataset('/content/drive/MyDrive/AP_HW/Scripts-ll/climatology/data/tcc/tcc_climatology-jjas.nc')\n",
    "\n",
    "    # Select event period and compute mean\n",
    "    ds_tcc = ds_tcc.sel(valid_time=time_range)\n",
    "    ds_tcc = ds_tcc.mean(dim='valid_time', skipna=True)\n",
    "\n",
    "    # Compute anomaly and assign event number\n",
    "    tcc_anom = ds_tcc - tcc_clim\n",
    "    tcc_anom = tcc_anom.assign_coords(event_no=event_no)\n",
    "\n",
    "    # Add to anomaly list\n",
    "    anom_list.append(tcc_anom)\n",
    "\n",
    "# Concatenate all event anomalies and save to file\n",
    "tcc_events_anom_jjas = xr.concat(anom_list, dim='event_no')\n",
    "tcc_events_anom_jjas.to_netcdf('/content/drive/MyDrive/AP_HW/Scripts-ll/tcc/data/tcc_events_anom-jjas.nc')\n"
   ]
  },
  {
   "cell_type": "code",
   "execution_count": null,
   "metadata": {},
   "outputs": [],
   "source": [
    "print('done')"
   ]
  }
 ],
 "metadata": {
  "language_info": {
   "name": "python"
  }
 },
 "nbformat": 4,
 "nbformat_minor": 0
}

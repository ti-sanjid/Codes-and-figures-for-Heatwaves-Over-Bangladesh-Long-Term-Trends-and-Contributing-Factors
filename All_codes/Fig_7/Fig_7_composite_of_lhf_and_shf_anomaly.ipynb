{
 "cells": [
  {
   "cell_type": "markdown",
   "metadata": {
    "id": "Iv-iGdlFceb4"
   },
   "source": [
    "# Imports and installations"
   ]
  },
  {
   "cell_type": "code",
   "execution_count": null,
   "metadata": {},
   "outputs": [],
   "source": [
    "!pip install cartopy"
   ]
  },
  {
   "cell_type": "code",
   "execution_count": null,
   "metadata": {},
   "outputs": [],
   "source": [
    "from google.colab import drive\n",
    "drive.mount('/content/drive')"
   ]
  },
  {
   "cell_type": "code",
   "execution_count": null,
   "metadata": {},
   "outputs": [],
   "source": [
    "import  xarray as xr\n",
    "import pandas as pd\n",
    "import numpy as np\n",
    "import matplotlib.pyplot as plt\n",
    "from datetime import datetime,timedelta\n",
    "import warnings\n",
    "import math\n",
    "from tqdm.auto import tqdm"
   ]
  },
  {
   "cell_type": "code",
   "execution_count": null,
   "metadata": {},
   "outputs": [],
   "source": [
    "import warnings\n",
    "warnings.filterwarnings('ignore')\n",
    "\n",
    "import numpy as np\n",
    "import pandas as pd\n",
    "import matplotlib.pyplot as plt\n",
    "\n",
    "import cartopy.feature as cf\n",
    "import cartopy.crs as ccrs\n",
    "import cartopy.mpl.ticker as cticker\n",
    "\n",
    "from cartopy.util import add_cyclic_point\n",
    "from matplotlib import animation\n",
    "from tqdm.auto import tqdm\n",
    "from datetime import datetime,timedelta\n",
    "\n",
    "from matplotlib.cm import get_cmap\n",
    "warnings.filterwarnings(\"ignore\")"
   ]
  },
  {
   "cell_type": "code",
   "execution_count": null,
   "metadata": {},
   "outputs": [],
   "source": [
    "ds=xr.open_dataset('/content/drive/MyDrive/AP_HW/ERA5 Data/LS heat flux/lshf-2024.nc')\n",
    "ds"
   ]
  },
  {
   "cell_type": "markdown",
   "metadata": {
    "id": "0setKV0BYJYi"
   },
   "source": [
    "# Anomaly\n"
   ]
  },
  {
   "cell_type": "markdown",
   "metadata": {
    "id": "KVbsIRrxXK52"
   },
   "source": [
    "\n",
    "*   We calculated the **latent heat flux and sensible heat flux anomalies** for each event using the dates from `HW_list_rolling_def.csv` for **pre-monsoon (MAM)** and **monsoon (JJAS)** seasons.  \n",
    "*   The **climatology** for **pre-monsoon (MAM)** and **monsoon (JJAS)** season was derived from ERA5 mean surface latent heat flux and mean surface sensible heat flux data (1981–2010) and computed in :\n",
    "    - `climatology_calculation_heat_flux.ipynb`\n",
    "\n",
    "\n",
    "\n"
   ]
  },
  {
   "cell_type": "markdown",
   "metadata": {
    "id": "kvafIY64aJqg"
   },
   "source": [
    "## MAM"
   ]
  },
  {
   "cell_type": "code",
   "execution_count": null,
   "metadata": {},
   "outputs": [],
   "source": [
    "# @title Heat date list\n",
    "list_hw=pd.read_csv('/content/drive/MyDrive/AP_HW/Scripts-ll/HW_dates/data/HW_list_rolling_def.csv')\n",
    "list_hw['Starting_Date'] = pd.to_datetime(list_hw[\"Starting_Date\"])\n",
    "list_hw['Ending_Date'] = pd.to_datetime(list_hw[\"Ending_Date\"])\n",
    "\n",
    "# separate hw for mam season\n",
    "mam_hw_list =list_hw[(list_hw['Starting_Date'].dt.month >= 3) & (list_hw['Starting_Date'].dt.month <= 5)]\n",
    "mam_hw_list.reset_index(inplace=True,drop=True)\n",
    "mam_hw_list"
   ]
  },
  {
   "cell_type": "code",
   "execution_count": null,
   "metadata": {},
   "outputs": [],
   "source": [
    "# @title Event data for composite analysis - LSHF anomaly\n",
    "\n",
    "import matplotlib.pyplot as plt\n",
    "# import cartopy.crs as ccrs\n",
    "import numpy as np\n",
    "import matplotlib.colors as colors\n",
    "\n",
    "# List to store anomalies for each event\n",
    "lshf_anom_list = []\n",
    "\n",
    "# Loop over heatwave events\n",
    "for i in tqdm(range(len(mam_hw_list['Starting_Date']))):\n",
    "    # Extract event year and dates\n",
    "    year = mam_hw_list['Starting_Date'].dt.year.iloc[i]\n",
    "    start_time = str(mam_hw_list['Starting_Date'][i])\n",
    "    end_time = str(mam_hw_list['Ending_Date'][i])\n",
    "\n",
    "    # Adjust times to Bangladesh timezone\n",
    "    start_time = str(np.datetime64(start_time) - np.timedelta64(6, 'h'))  # Subtract 6h\n",
    "    end_time = str(np.datetime64(end_time) - np.timedelta64(6, 'h') + np.timedelta64(24, 'h'))  # Include end date\n",
    "    time_range = slice(start_time, end_time)\n",
    "    event_no = i + 1\n",
    "\n",
    "    ###################################\n",
    "    ############# LSHF ################\n",
    "    # Load LSHF and climatology\n",
    "    ds_lshf = xr.open_dataset(f\"/content/drive/MyDrive/AP_HW/ERA5 Data/LS heat flux/lshf-{year}.nc\")\n",
    "    lshf_clim = xr.open_dataset('/content/drive/MyDrive/AP_HW/Scripts-ll/climatology/data/hf/hf_climatology-mam.nc')\n",
    "\n",
    "    # Select event period and compute mean\n",
    "    ds_lshf = ds_lshf.sel(valid_time=time_range)\n",
    "    ds_lshf = ds_lshf.mean(dim='valid_time', skipna=True)\n",
    "\n",
    "    # Compute anomaly and assign event number\n",
    "    lshf_anom = ds_lshf - lshf_clim\n",
    "    lshf_anom = lshf_anom.assign_coords(event_no=event_no)\n",
    "\n",
    "    # Add to anomaly list\n",
    "    lshf_anom_list.append(lshf_anom)\n",
    "\n",
    "# Concatenate all events\n",
    "lshf_events_anom_mam = xr.concat(lshf_anom_list, dim='event_no')\n",
    "\n",
    "# Save to NetCDF\n",
    "lshf_events_anom_mam.to_netcdf('/content/drive/MyDrive/AP_HW/Scripts-ll/hf/data/lshf_events_anom-mam.nc')\n"
   ]
  },
  {
   "cell_type": "markdown",
   "metadata": {
    "id": "UP2k-4fdr3-j"
   },
   "source": [
    "## JJAS"
   ]
  },
  {
   "cell_type": "code",
   "execution_count": null,
   "metadata": {},
   "outputs": [],
   "source": [
    "# @title Heat date list\n",
    "list_hw=pd.read_csv('/content/drive/MyDrive/AP_HW/Scripts-ll/HW_dates/data/HW_list_rolling_def.csv')\n",
    "list_hw['Starting_Date'] = pd.to_datetime(list_hw[\"Starting_Date\"])\n",
    "list_hw['Ending_Date'] = pd.to_datetime(list_hw[\"Ending_Date\"])\n",
    "\n",
    "# separate hw for jjas season\n",
    "jjas_hw_list =list_hw[(list_hw['Starting_Date'].dt.month >= 6) & (list_hw['Starting_Date'].dt.month <= 9)]\n",
    "jjas_hw_list.reset_index(inplace=True,drop=True)\n",
    "jjas_hw_list\n"
   ]
  },
  {
   "cell_type": "code",
   "execution_count": null,
   "metadata": {},
   "outputs": [],
   "source": [
    "# @title Event data for composite analysis - LSHF anomaly (JJAS)\n",
    "\n",
    "import matplotlib.pyplot as plt\n",
    "# import cartopy.crs as ccrs\n",
    "import numpy as np\n",
    "import matplotlib.colors as colors\n",
    "\n",
    "# List to store anomalies for each event\n",
    "lshf_anom_list = []\n",
    "\n",
    "# Loop over JJAS heatwave events\n",
    "for i in tqdm(range(len(jjas_hw_list['Starting_Date']))):\n",
    "    # Extract event year and dates\n",
    "    year = jjas_hw_list['Starting_Date'].dt.year.iloc[i]\n",
    "    start_time = str(jjas_hw_list['Starting_Date'][i])\n",
    "    end_time = str(jjas_hw_list['Ending_Date'][i])\n",
    "\n",
    "    # Adjust times to Bangladesh timezone\n",
    "    start_time = str(np.datetime64(start_time) - np.timedelta64(6, 'h'))  # Subtract 6h\n",
    "    end_time = str(np.datetime64(end_time) - np.timedelta64(6, 'h') + np.timedelta64(24, 'h'))  # Include end date\n",
    "    time_range = slice(start_time, end_time)\n",
    "    event_no = i + 1\n",
    "\n",
    "    ###################################\n",
    "    ############# LSHF ################\n",
    "    # Load LSHF and climatology\n",
    "    ds_lshf = xr.open_dataset(f\"/content/drive/MyDrive/AP_HW/ERA5 Data/LS heat flux/lshf-{year}.nc\")\n",
    "    lshf_clim = xr.open_dataset('/content/drive/MyDrive/AP_HW/Scripts-ll/climatology/data/hf/hf_climatology-jjas.nc')\n",
    "\n",
    "    # Select event period and compute mean\n",
    "    ds_lshf = ds_lshf.sel(valid_time=time_range)\n",
    "    ds_lshf = ds_lshf.mean(dim='valid_time', skipna=True)\n",
    "\n",
    "    # Compute anomaly and assign event number\n",
    "    lshf_anom = ds_lshf - lshf_clim\n",
    "    lshf_anom = lshf_anom.assign_coords(event_no=event_no)\n",
    "\n",
    "    # Add to anomaly list\n",
    "    lshf_anom_list.append(lshf_anom)\n",
    "\n",
    "# Concatenate all events\n",
    "lshf_events_anom_jjas = xr.concat(lshf_anom_list, dim='event_no')\n",
    "\n",
    "# Save to NetCDF\n",
    "lshf_events_anom_jjas.to_netcdf('/content/drive/MyDrive/AP_HW/Scripts-ll/hf/data/lshf_events_anom-jjas.nc')\n"
   ]
  },
  {
   "cell_type": "markdown",
   "metadata": {
    "id": "HZAuQDXo5EEH"
   },
   "source": [
    "# Plot"
   ]
  },
  {
   "cell_type": "markdown",
   "metadata": {
    "id": "B2px5w88XpGL"
   },
   "source": [
    "We have plotted anomalies of **latent heat flux and sensible heat flux**.  \n",
    "\n",
    "- Anomalies were calculated above"
   ]
  },
  {
   "cell_type": "code",
   "execution_count": null,
   "metadata": {},
   "outputs": [],
   "source": [
    "levels=np.arange(-40, 40 + 1, 5)\n",
    "projection=ccrs.PlateCarree()\n",
    "fig,axes=plt.subplots(ncols=2,nrows=2,subplot_kw={'projection':projection},figsize=(10, 25))\n",
    "# Data load\n",
    "hf=xr.open_dataset('/content/drive/MyDrive/AP_HW/Scripts-ll/hf/data/lshf_events_anom-mam.nc')\n",
    "# wind\n",
    "# # Spatial region\n",
    "lat_range=slice(27.5,20.00)\n",
    "lon_range=slice(84,95.75)\n",
    "\n",
    "hf=hf.sel(latitude=lat_range,longitude=lon_range)\n",
    "hf_anom=hf.mean(dim='event_no',skipna=True)\n",
    "\n",
    "latitude_hf=hf_anom['latitude'].values\n",
    "longitude_hf=hf_anom['longitude'].values\n",
    "\n",
    "# mslhf plot\n",
    "ax=axes[0,1]\n",
    "contourf=ax.contourf(longitude_hf,latitude_hf,hf_anom.mslhf,levels=levels,cmap='seismic',extend='both',transform=projection)\n",
    "# cbar = plt.colorbar(contourf, ax=ax, orientation='horizontal', pad=0.01,fraction=0.06, label=\"${Pa}$\")\n",
    "\n",
    "ax.gridlines(draw_labels=['bottom'],visible=False)\n",
    "\n",
    "ax.coastlines()\n",
    "ax.set_title(\"(b) Mean surface latent heat flux - Pre-monsoon\",fontsize=10)\n",
    "ax.set_xlabel('Longitude')\n",
    "ax.set_ylabel('Latitude')\n",
    "ax.add_feature(cf.BORDERS.with_scale('10m'))\n",
    "# msshf plot\n",
    "ax=axes[0,0]\n",
    "contourf=ax.contourf(longitude_hf,latitude_hf,hf_anom.msshf,levels=levels,cmap='seismic',extend='both',transform=projection)\n",
    "# cbar = plt.colorbar(contourf, ax=ax, orientation='horizontal', pad=0.01,fraction=0.06, label=\"${Pa}$\")\n",
    "\n",
    "ax.gridlines(draw_labels=['left','bottom'],visible=False)\n",
    "\n",
    "ax.coastlines()\n",
    "ax.set_title(\"(a) Mean surface sensible heat flux - Pre-monsoon\",fontsize=10)\n",
    "ax.set_xlabel('Longitude')\n",
    "ax.set_ylabel('Latitude')\n",
    "ax.add_feature(cf.BORDERS.with_scale('10m'))\n",
    "\n",
    "#jjas\n",
    "# Data load\n",
    "hf=xr.open_dataset(f'/content/drive/MyDrive/AP_HW/Scripts-ll/hf/data/lshf_events_anom-jjas.nc')\n",
    "\n",
    "# Spatial region\n",
    "# lat_range=slice(52,0)\n",
    "# lon_range=slice(25,120)\n",
    "lat_range=slice(27.5,20.00)\n",
    "lon_range=slice(84,95.75)\n",
    "\n",
    "hf=hf.sel(latitude=lat_range,longitude=lon_range)\n",
    "\n",
    "hf_anom=hf.mean(dim='event_no',skipna=True)\n",
    "\n",
    "latitude_hf=hf_anom['latitude'].values\n",
    "longitude_hf=hf_anom['longitude'].values\n",
    "\n",
    "# ,levels=levels\n",
    "# mslhf plot\n",
    "ax=axes[1,1]\n",
    "contourf=ax.contourf(longitude_hf,latitude_hf,hf_anom.mslhf,levels=levels,cmap='seismic',extend='both',transform=projection)\n",
    "# cbar = plt.colorbar(contourf, ax=ax, orientation='horizontal', pad=0.01,fraction=0.06, label=\"${Pa}$\")\n",
    "\n",
    "ax.gridlines(draw_labels=['bottom'],visible=False)\n",
    "\n",
    "ax.coastlines()\n",
    "ax.set_title(\"(d) Mean surface latent heat flux - Monsoon\",fontsize=10)\n",
    "ax.set_xlabel('Longitude')\n",
    "ax.set_ylabel('Latitude')\n",
    "ax.add_feature(cf.BORDERS.with_scale('10m'))\n",
    "# msshf plot\n",
    "ax=axes[1,0]\n",
    "contourf=ax.contourf(longitude_hf,latitude_hf,hf_anom.msshf,levels=levels,cmap='seismic',extend='both',transform=projection)\n",
    "# cbar = plt.colorbar(contourf, ax=ax, orientation='horizontal', pad=0.01,fraction=0.06, label=\"${Pa}$\")\n",
    "\n",
    "\n",
    "ax.gridlines(draw_labels=['left','bottom'],visible=False)\n",
    "\n",
    "ax.coastlines()\n",
    "ax.set_title(\"(c) Mean surface sensible heat flux - Monsoon\",fontsize=10)\n",
    "ax.set_xlabel('Longitude')\n",
    "ax.set_ylabel('Latitude')\n",
    "ax.add_feature(cf.BORDERS.with_scale('10m'))\n",
    "\n",
    "# Create a single colorbar for both subplots\n",
    "# Get the contour levels from the first subplot\n",
    "cbar = plt.colorbar(contourf, ax=axes, orientation='horizontal', pad=0.01, fraction=0.02, aspect=35, label=\"${W} {m}^{-2}$\")\n",
    "cbar.set_ticks(levels[::1])  # Set the colorbar ticks to match the levels used in contour plots\n",
    "# Adjust colorbar position if needed\n",
    "cbar.ax.set_position([0.21, 0.075, 0.6, 0.025]) # [left, bottom, width, height]\n",
    "# plt.tight_layout()\n",
    "plt.subplots_adjust( wspace=0.05,hspace=-0.825,top=0.9)\n",
    "plt.suptitle('Composite of Latent and Sensible Heat Flux Anomalies ', x=0.5, y=0.34,fontsize=11)\n",
    "plt.show()\n",
    "\n",
    "# Save the figure\n",
    "fig.savefig(\"/content/drive/MyDrive/AP_HW/Scripts-ll/Manuscript codes/All_Figures/Fig_7_composite_of_lhf_and_shf_anomaly.jpg\",\n",
    "            dpi=300, format=\"jpg\", bbox_inches=\"tight\")"
   ]
  },
  {
   "cell_type": "code",
   "execution_count": null,
   "metadata": {},
   "outputs": [],
   "source": [
    "print('executed all the lines')"
   ]
  },
  {
   "cell_type": "code",
   "execution_count": null,
   "metadata": {},
   "outputs": [],
   "source": []
  }
 ],
 "metadata": {
  "language_info": {
   "name": "python"
  }
 },
 "nbformat": 4,
 "nbformat_minor": 0
}

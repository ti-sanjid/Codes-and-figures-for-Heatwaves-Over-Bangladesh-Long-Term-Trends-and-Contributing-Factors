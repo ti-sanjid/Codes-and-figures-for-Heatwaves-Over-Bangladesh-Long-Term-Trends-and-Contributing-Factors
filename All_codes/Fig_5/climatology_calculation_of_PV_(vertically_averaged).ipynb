{
 "cells": [
  {
   "cell_type": "code",
   "execution_count": null,
   "metadata": {},
   "outputs": [],
   "source": [
    "from google.colab import drive\n",
    "drive.mount('/content/drive')"
   ]
  },
  {
   "cell_type": "code",
   "execution_count": null,
   "metadata": {},
   "outputs": [],
   "source": [
    "!pip install cartopy"
   ]
  },
  {
   "cell_type": "code",
   "execution_count": null,
   "metadata": {},
   "outputs": [],
   "source": [
    "import  xarray as xr\n",
    "import pandas as pd\n",
    "import numpy as np\n",
    "import matplotlib.pyplot as plt\n",
    "from datetime import datetime,timedelta\n",
    "import warnings\n",
    "import math\n",
    "from tqdm.auto import tqdm"
   ]
  },
  {
   "cell_type": "code",
   "execution_count": null,
   "metadata": {},
   "outputs": [],
   "source": [
    "import warnings\n",
    "warnings.filterwarnings('ignore')\n",
    "\n",
    "import numpy as np\n",
    "import pandas as pd\n",
    "import matplotlib.pyplot as plt\n",
    "\n",
    "import cartopy.feature as cf\n",
    "import cartopy.crs as ccrs\n",
    "import cartopy.mpl.ticker as cticker\n",
    "\n",
    "from cartopy.util import add_cyclic_point\n",
    "from matplotlib import animation\n",
    "from tqdm.auto import tqdm\n",
    "from datetime import datetime,timedelta\n",
    "\n",
    "from matplotlib.cm import get_cmap\n",
    "warnings.filterwarnings(\"ignore\")"
   ]
  },
  {
   "cell_type": "markdown",
   "metadata": {
    "id": "dmMI_csjCxrp"
   },
   "source": [
    "The **climatology** for **pre-monsoon (MAM)** and **monsoon (JJAS)** season was derived from ERA5 **500hpa-200hpa Potential vorticity**  data (1981–2010)"
   ]
  },
  {
   "cell_type": "code",
   "execution_count": null,
   "metadata": {},
   "outputs": [],
   "source": [
    "ds=xr.open_dataset('/content/drive/MyDrive/AP_HW/ERA5 Data/potential_vorticity/pv-2023.nc')\n",
    "ds"
   ]
  },
  {
   "cell_type": "markdown",
   "metadata": {
    "id": "JOts-Weg6fLC"
   },
   "source": [
    "# MAM\n"
   ]
  },
  {
   "cell_type": "code",
   "execution_count": null,
   "metadata": {},
   "outputs": [],
   "source": [
    "\n",
    "# @title vertically averaged\n",
    "import os\n",
    "from tqdm.auto import tqdm\n",
    "import datetime\n",
    "print(datetime.datetime.utcnow() + datetime.timedelta(hours=6))  # Print current time (+6h offset)\n",
    "\n",
    "directory_path = '/content/drive/MyDrive/AP_HW/ERA5 Data/potential_vorticity'\n",
    "\n",
    "pv_list = []\n",
    "\n",
    "# Loop through files in directory\n",
    "for filename in tqdm(sorted(os.listdir(directory_path))):\n",
    "  if filename.endswith('.nc'):  # Process only netCDF files\n",
    "    file_path = os.path.join(directory_path, filename)\n",
    "    year = filename[-7:-3]  # Extract year from filename\n",
    "    ds_pv = xr.open_dataset(file_path)\n",
    "\n",
    "    # Define seasonal time range (MAM) and convert to bd time\n",
    "    start_time = str(np.datetime64(f'{year}-03-01T00:00:00.000000000') - np.timedelta64(6, 'h'))\n",
    "    end_time = str(np.datetime64(f'{year}-05-31T17:00:00.000000000'))\n",
    "    time_range = slice(start_time, end_time)\n",
    "\n",
    "    # Select, adjust to Bangladesh timezone, and average dataset\n",
    "    ds_pv = ds_pv.sel(valid_time=time_range)\n",
    "    ds_pv['valid_time'] = ds_pv['valid_time'] + np.timedelta64(6, 'h')\n",
    "    ds_pv = ds_pv.mean(dim='pressure_level', skipna=True)        # Vertical mean\n",
    "    ds_pv = ds_pv.groupby('valid_time.year').mean(dim='valid_time', skipna=True)  # Seasonal mean\n",
    "\n",
    "    pv_list.append(ds_pv)\n",
    "\n",
    "# Concatenate yearly data\n",
    "pv_ds = xr.concat(pv_list, dim='year')\n",
    "\n",
    "# Compute climatology (1981–2010)\n",
    "pv_clim_ds = pv_ds.sel(year=slice(1981, 2010))\n",
    "pv_climatology = pv_clim_ds.mean(dim='year', skipna=True)\n",
    "\n",
    "# Save to NetCDF\n",
    "pv_climatology.to_netcdf('/content/drive/MyDrive/AP_HW/Scripts-ll/climatology/data/pv/pv_mam_vertical_climatology.nc')\n",
    "\n",
    "# Print completion time\n",
    "import datetime\n",
    "print(datetime.datetime.utcnow() + datetime.timedelta(hours=6))\n"
   ]
  },
  {
   "cell_type": "markdown",
   "metadata": {
    "id": "s0E3kHkeXfaz"
   },
   "source": [
    "# JJAS\n"
   ]
  },
  {
   "cell_type": "code",
   "execution_count": null,
   "metadata": {},
   "outputs": [],
   "source": [
    "# @title vertically averaged.\n",
    "\n",
    "import os\n",
    "from tqdm.auto import tqdm\n",
    "import datetime\n",
    "print(datetime.datetime.utcnow() + datetime.timedelta(hours=6))  # Print current time (+6h offset)\n",
    "\n",
    "directory_path = '/content/drive/MyDrive/AP_HW/ERA5 Data/potential_vorticity'\n",
    "\n",
    "pv_list = []\n",
    "\n",
    "# Loop through all files\n",
    "for filename in tqdm(sorted(os.listdir(directory_path))):\n",
    "  if filename.endswith('.nc'):  # Process only netCDF files\n",
    "    file_path = os.path.join(directory_path, filename)\n",
    "    year = filename[-7:-3]  # Extract year\n",
    "    ds_pv = xr.open_dataset(file_path)\n",
    "\n",
    "    # Define JJAS time range\n",
    "    start_time = str(np.datetime64(f'{year}-06-01T00:00:00.000000000') - np.timedelta64(6, 'h'))\n",
    "    end_time = str(np.datetime64(f'{year}-09-30T17:00:00.000000000'))\n",
    "    time_range = slice(start_time, end_time)\n",
    "\n",
    "    # Select time, adjust to Bangladesh timezone, and average\n",
    "    ds_pv = ds_pv.sel(valid_time=time_range)\n",
    "    ds_pv['valid_time'] = ds_pv['valid_time'] + np.timedelta64(6, 'h')\n",
    "    ds_pv = ds_pv.mean(dim='pressure_level', skipna=True)  # Vertical mean\n",
    "    ds_pv = ds_pv.groupby('valid_time.year').mean(dim='valid_time', skipna=True)  # Seasonal mean\n",
    "\n",
    "    pv_list.append(ds_pv)\n",
    "\n",
    "# Merge yearly data\n",
    "pv_ds = xr.concat(pv_list, dim='year')\n",
    "\n",
    "# Compute climatology (1981–2010)\n",
    "pv_clim_ds = pv_ds.sel(year=slice(1981, 2010))\n",
    "pv_climatology = pv_clim_ds.mean(dim='year', skipna=True)\n",
    "\n",
    "# Save climatology\n",
    "pv_climatology.to_netcdf('/content/drive/MyDrive/AP_HW/Scripts-ll/climatology/data/pv/pv_jjas_vertical_climatology.nc')\n",
    "\n",
    "# Print completion time\n",
    "import datetime\n",
    "print(datetime.datetime.utcnow() + datetime.timedelta(hours=6))\n"
   ]
  }
 ],
 "metadata": {
  "language_info": {
   "name": "python"
  }
 },
 "nbformat": 4,
 "nbformat_minor": 0
}

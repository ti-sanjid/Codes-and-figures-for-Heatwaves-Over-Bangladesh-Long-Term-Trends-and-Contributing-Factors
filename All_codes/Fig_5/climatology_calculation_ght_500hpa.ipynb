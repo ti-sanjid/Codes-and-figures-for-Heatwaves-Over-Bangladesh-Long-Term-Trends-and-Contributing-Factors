{
 "cells": [
  {
   "cell_type": "code",
   "execution_count": null,
   "metadata": {},
   "outputs": [],
   "source": [
    "!pip install cartopy"
   ]
  },
  {
   "cell_type": "code",
   "execution_count": null,
   "metadata": {},
   "outputs": [],
   "source": [
    "from google.colab import drive\n",
    "drive.mount('/content/drive')"
   ]
  },
  {
   "cell_type": "code",
   "execution_count": null,
   "metadata": {},
   "outputs": [],
   "source": [
    "import  xarray as xr\n",
    "import pandas as pd\n",
    "import numpy as np\n",
    "import matplotlib.pyplot as plt\n",
    "from datetime import datetime,timedelta\n",
    "import warnings\n",
    "import math\n",
    "from tqdm.auto import tqdm"
   ]
  },
  {
   "cell_type": "code",
   "execution_count": null,
   "metadata": {},
   "outputs": [],
   "source": [
    "import warnings\n",
    "warnings.filterwarnings('ignore')\n",
    "\n",
    "import numpy as np\n",
    "import pandas as pd\n",
    "import matplotlib.pyplot as plt\n",
    "\n",
    "import cartopy.feature as cf\n",
    "import cartopy.crs as ccrs\n",
    "import cartopy.mpl.ticker as cticker\n",
    "\n",
    "from cartopy.util import add_cyclic_point\n",
    "from matplotlib import animation\n",
    "from tqdm.auto import tqdm\n",
    "from datetime import datetime,timedelta\n",
    "\n",
    "from matplotlib.cm import get_cmap\n",
    "warnings.filterwarnings(\"ignore\")"
   ]
  },
  {
   "cell_type": "code",
   "execution_count": null,
   "metadata": {},
   "outputs": [],
   "source": [
    "ds=xr.open_mfdataset('/content/drive/MyDrive/AP_HW/ERA5 Data/ght_200&500/z_200&500-1971.nc')\n",
    "ds"
   ]
  },
  {
   "cell_type": "markdown",
   "metadata": {
    "id": "p32FaBsuCAc6"
   },
   "source": [
    "The **climatology** for **pre-monsoon (MAM)** and **monsoon (JJAS)** season was derived from ERA5 **500hpa geopotential**  data (1981–2010)"
   ]
  },
  {
   "cell_type": "code",
   "execution_count": null,
   "metadata": {},
   "outputs": [],
   "source": [
    "# @title Climatology Calculation - MAM\n",
    "import os\n",
    "from tqdm.auto import tqdm\n",
    "import datetime\n",
    "print(datetime.datetime.utcnow() + datetime.timedelta(hours=6))\n",
    "\n",
    "z_list = []\n",
    "\n",
    "directory_path = '/content/drive/MyDrive/AP_HW/ERA5 Data/ght_200&500'\n",
    "\n",
    "# Loop over yearly files\n",
    "for filename in tqdm(sorted(os.listdir(directory_path))):\n",
    "  if filename.endswith('.nc'):\n",
    "    file_path = os.path.join(directory_path, filename)\n",
    "    year = filename[-7:-3]\n",
    "\n",
    "    # Open file and select MAM period\n",
    "    ght = xr.open_dataset(file_path)\n",
    "    start_time = str(np.datetime64(f'{year}-03-01T00:00:00.000000000') - np.timedelta64(6, 'h'))\n",
    "    end_time = str(np.datetime64(f'{year}-05-31T17:00:00.000000000'))\n",
    "    time_range = slice(start_time, end_time)\n",
    "    ght = ght.sel(valid_time=time_range, pressure_level=500)\n",
    "\n",
    "    # adjust to Bangladesh timezone\n",
    "    ght['valid_time'] = ght['valid_time'] + np.timedelta64(6, 'h')\n",
    "\n",
    "    # Yearly mean\n",
    "    ds_ght = ght.groupby('valid_time.year').mean(dim='valid_time', skipna=True)\n",
    "    z_list.append(ds_ght)\n",
    "\n",
    "# Combine years and compute climatology\n",
    "z_ds = xr.concat(z_list, dim='year')\n",
    "z_clim_ds = z_ds.sel(year=slice(1981, 2010))\n",
    "z_climatology = z_clim_ds.mean(dim='year', skipna=True)\n",
    "\n",
    "# Save climatology\n",
    "z_climatology.to_netcdf(f'/content/drive/MyDrive/AP_HW/Scripts-ll/climatology/data/z/ght_500_mam_climatology.nc')\n",
    "\n",
    "print(datetime.datetime.utcnow() + datetime.timedelta(hours=6))\n"
   ]
  },
  {
   "cell_type": "code",
   "execution_count": null,
   "metadata": {},
   "outputs": [],
   "source": [
    "# @title Climatology Calculation - JJAS\n",
    "import os\n",
    "from tqdm.auto import tqdm\n",
    "import datetime\n",
    "print(datetime.datetime.utcnow() + datetime.timedelta(hours=6))  # Print start time\n",
    "\n",
    "z_list = []\n",
    "\n",
    "directory_path = '/content/drive/MyDrive/AP_HW/ERA5 Data/ght_200&500'\n",
    "\n",
    "# Loop over yearly files\n",
    "for filename in tqdm(sorted(os.listdir(directory_path))):\n",
    "  if filename.endswith('.nc'):\n",
    "    file_path = os.path.join(directory_path, filename)\n",
    "    year = filename[-7:-3]\n",
    "\n",
    "    # Open file and select JJAS period\n",
    "    ght = xr.open_dataset(file_path)\n",
    "    start_time = str(np.datetime64(f'{year}-06-01T00:00:00.000000000') - np.timedelta64(6, 'h'))\n",
    "    end_time = str(np.datetime64(f'{year}-09-30T17:00:00.000000000'))\n",
    "    time_range = slice(start_time, end_time)\n",
    "    ght = ght.sel(valid_time=time_range, pressure_level=500)\n",
    "\n",
    "    # adjust to Bangladesh timezone\n",
    "    ght['valid_time'] = ght['valid_time'] + np.timedelta64(6, 'h')\n",
    "\n",
    "    # Yearly mean\n",
    "    ds_ght = ght.groupby('valid_time.year').mean(dim='valid_time', skipna=True)\n",
    "    z_list.append(ds_ght)\n",
    "\n",
    "# Combine years and compute climatology\n",
    "z_ds = xr.concat(z_list, dim='year')\n",
    "z_clim_ds = z_ds.sel(year=slice(1981, 2010))\n",
    "z_climatology = z_clim_ds.mean(dim='year', skipna=True)\n",
    "\n",
    "# Save climatology\n",
    "z_climatology.to_netcdf(f'/content/drive/MyDrive/AP_HW/Scripts-ll/climatology/data/z/ght_500_jjas_climatology.nc')\n",
    "\n",
    "print(datetime.datetime.utcnow() + datetime.timedelta(hours=6))  # Print end time\n"
   ]
  }
 ],
 "metadata": {
  "language_info": {
   "name": "python"
  }
 },
 "nbformat": 4,
 "nbformat_minor": 0
}

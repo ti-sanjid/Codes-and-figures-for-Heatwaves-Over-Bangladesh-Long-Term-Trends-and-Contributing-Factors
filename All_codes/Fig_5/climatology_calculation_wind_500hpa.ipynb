{
 "cells": [
  {
   "cell_type": "code",
   "execution_count": null,
   "metadata": {},
   "outputs": [],
   "source": [
    "!pip install cartopy"
   ]
  },
  {
   "cell_type": "code",
   "execution_count": null,
   "metadata": {},
   "outputs": [],
   "source": [
    "from google.colab import drive\n",
    "drive.mount('/content/drive')"
   ]
  },
  {
   "cell_type": "code",
   "execution_count": null,
   "metadata": {},
   "outputs": [],
   "source": [
    "import  xarray as xr\n",
    "import pandas as pd\n",
    "import numpy as np\n",
    "import matplotlib.pyplot as plt\n",
    "from datetime import datetime,timedelta\n",
    "import warnings\n",
    "import math\n",
    "from tqdm.auto import tqdm"
   ]
  },
  {
   "cell_type": "code",
   "execution_count": null,
   "metadata": {},
   "outputs": [],
   "source": [
    "import warnings\n",
    "warnings.filterwarnings('ignore')\n",
    "\n",
    "import numpy as np\n",
    "import pandas as pd\n",
    "import matplotlib.pyplot as plt\n",
    "\n",
    "import cartopy.feature as cf\n",
    "import cartopy.crs as ccrs\n",
    "import cartopy.mpl.ticker as cticker\n",
    "\n",
    "from cartopy.util import add_cyclic_point\n",
    "from matplotlib import animation\n",
    "from tqdm.auto import tqdm\n",
    "from datetime import datetime,timedelta\n",
    "\n",
    "from matplotlib.cm import get_cmap\n",
    "warnings.filterwarnings(\"ignore\")"
   ]
  },
  {
   "cell_type": "markdown",
   "metadata": {
    "id": "pe8zKhs-CiaJ"
   },
   "source": [
    "The **climatology** for **pre-monsoon (MAM)** and **monsoon (JJAS)** season was derived from ERA5 **500hpa U component of wind and V component of wind**  data (1981–2010)"
   ]
  },
  {
   "cell_type": "code",
   "execution_count": null,
   "metadata": {},
   "outputs": [],
   "source": [
    "ds=xr.open_dataset('/content/drive/MyDrive/AP_HW/ERA5 Data/Daily_wind_500hpa/daily_uv_500-1971.nc')\n",
    "ds"
   ]
  },
  {
   "cell_type": "code",
   "execution_count": null,
   "metadata": {},
   "outputs": [],
   "source": [
    "# @title Climatology Calculation - MAM\n",
    "import os\n",
    "import gc  # Garbage collection\n",
    "from tqdm.auto import tqdm\n",
    "import datetime\n",
    "\n",
    "# Print current time in BD timezone\n",
    "print(datetime.datetime.utcnow() + datetime.timedelta(hours=6))\n",
    "\n",
    "wind_list = []  # List to store seasonal means\n",
    "\n",
    "directory_path = '/content/drive/MyDrive/AP_HW/ERA5 Data/Daily_wind_500hpa'\n",
    "for filename in tqdm(sorted(os.listdir(directory_path))):\n",
    "    if filename.endswith('.nc'):\n",
    "        file_path = os.path.join(directory_path, filename)\n",
    "        year = filename[-7:-3]  # Extract year\n",
    "\n",
    "        # Load wind data\n",
    "        wind = xr.open_dataset(file_path)\n",
    "\n",
    "        # Select MAM months at 500 hPa\n",
    "        wind = wind.sel(valid_time=wind.valid_time.dt.month.isin([3,4,5]), pressure_level=500)\n",
    "\n",
    "        # Compute seasonal mean by year\n",
    "        ds_wind = wind.groupby('valid_time.year').mean(dim='valid_time', skipna=True)\n",
    "        wind_list.append(ds_wind)\n",
    "\n",
    "# Concatenate all years\n",
    "wind_ds = xr.concat(wind_list, dim='year')\n",
    "\n",
    "# Select 1981–2010 period\n",
    "wind_clim_ds = wind_ds.sel(year=slice(1981, 2010))\n",
    "\n",
    "# Compute climatology mean\n",
    "wind_climatology = wind_clim_ds.mean(dim='year', skipna=True)\n",
    "\n",
    "# Save to NetCDF\n",
    "wind_climatology.to_netcdf('/content/drive/MyDrive/AP_HW/Scripts-ll/climatology/data/wind/uv_500_mam_climatology.nc')\n",
    "\n",
    "# Print completion time in BD timezone\n",
    "import datetime\n",
    "print(datetime.datetime.utcnow() + datetime.timedelta(hours=6))\n"
   ]
  },
  {
   "cell_type": "code",
   "execution_count": null,
   "metadata": {},
   "outputs": [],
   "source": [
    "# @title Climatology Calculation - JJAS\n",
    "import os\n",
    "from tqdm.auto import tqdm\n",
    "import datetime\n",
    "\n",
    "# Print current time in BD timezone\n",
    "print(datetime.datetime.utcnow() + datetime.timedelta(hours=6))\n",
    "\n",
    "wind_list = []  # List to store seasonal means\n",
    "\n",
    "directory_path = '/content/drive/MyDrive/AP_HW/ERA5 Data/Daily_wind_500hpa'\n",
    "for filename in tqdm(sorted(os.listdir(directory_path))):\n",
    "    if filename.endswith('.nc'):\n",
    "        file_path = os.path.join(directory_path, filename)\n",
    "        year = filename[-7:-3]  # Extract year\n",
    "\n",
    "        # Load wind data\n",
    "        wind = xr.open_dataset(file_path)\n",
    "\n",
    "        # Select JJAS months at 500 hPa\n",
    "        wind = wind.sel(valid_time=wind.valid_time.dt.month.isin([6,7,8,9]), pressure_level=500)\n",
    "\n",
    "        # Compute seasonal mean by year\n",
    "        ds_wind = wind.groupby('valid_time.year').mean(dim='valid_time', skipna=True)\n",
    "        wind_list.append(ds_wind)\n",
    "\n",
    "# Concatenate all years\n",
    "wind_ds = xr.concat(wind_list, dim='year')\n",
    "\n",
    "# Select 1981–2010 period\n",
    "wind_clim_ds = wind_ds.sel(year=slice(1981, 2010))\n",
    "\n",
    "# Compute climatology mean\n",
    "wind_climatology = wind_clim_ds.mean(dim='year', skipna=True)\n",
    "\n",
    "# Save to NetCDF\n",
    "wind_climatology.to_netcdf('/content/drive/MyDrive/AP_HW/Scripts-ll/climatology/data/wind/uv_500_jjas_climatology.nc')\n",
    "\n",
    "# Print completion time in BD timezone\n",
    "import datetime\n",
    "print(datetime.datetime.utcnow() + datetime.timedelta(hours=6))\n"
   ]
  }
 ],
 "metadata": {
  "language_info": {
   "name": "python"
  }
 },
 "nbformat": 4,
 "nbformat_minor": 0
}
